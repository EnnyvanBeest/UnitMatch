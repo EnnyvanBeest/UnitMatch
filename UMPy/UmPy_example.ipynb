{
 "cells": [
  {
   "cell_type": "code",
   "execution_count": 1,
   "metadata": {},
   "outputs": [],
   "source": [
    "%load_ext autoreload\n",
    "%autoreload \n",
    "import Param_fun as pf\n",
    "import Metrics_fun as mf\n",
    "import Bayes_fun as bf\n",
    "import utils as util\n",
    "import numpy as np\n",
    "import matplotlib.pyplot as plt\n",
    "from GUI import *\n",
    "import Save_utils as su"
   ]
  },
  {
   "cell_type": "code",
   "execution_count": 2,
   "metadata": {},
   "outputs": [],
   "source": [
    "#Can supply paths to files directly, but reccomended to use the paths_fromKS function below\n",
    "#get default parameters, can add your own before or after!\n",
    "param = util.get_default_param()\n",
    "\n",
    "\n",
    "# Load in the data\n",
    "\n",
    "#The channel position i.e location of active channels is assumed to be the same for all recording sessions\n",
    "ChannelPos1 = np.load(r'Data\\Mouse1\\AL032\\2019-11-21\\Probe0\\1\\channel_positions.npy')\n",
    "#This makes position 3-D by inserting an axis of all one's in the first axis, to allow easy extension to 3-D coords\n",
    "ChannelPos1 = np.insert(ChannelPos1,0, np.ones(ChannelPos1.shape[0]), axis =1)\n",
    "\n",
    "#path to the average waveforms for each session\n",
    "WavePath1 = r'Data\\Mouse1\\AL032\\2019-11-21\\Probe0\\1\\RawWaveforms'\n",
    "WavePath2 = r'Data\\Mouse1\\AL032\\2019-11-22\\Probe0\\1\\RawWaveforms'\n",
    "\n",
    "#path to a tsv file, where the second column contains 'good' for all units you want to include\n",
    "UnitLabelPath1 = r'Data\\Mouse1\\AL032\\2019-11-21\\Probe0\\1\\cluster_group.tsv'\n",
    "UnitLabelPath2 = r'Data\\Mouse1\\AL032\\2019-11-22\\Probe0\\1\\cluster_group.tsv'\n",
    "\n",
    "# need to put paths as a list\n",
    "WavePaths = [WavePath1 , WavePath2]\n",
    "UnitLabelPaths = [UnitLabelPath1, UnitLabelPath2]\n",
    "ChannelPos = [ChannelPos1, ChannelPos1] # Want it per session, however usually will be the same "
   ]
  },
  {
   "cell_type": "code",
   "execution_count": 2,
   "metadata": {},
   "outputs": [],
   "source": [
    "#get default parameters, can add your own before or after!\n",
    "param = util.get_default_param()\n",
    "\n",
    "#Give the paths to the KS directories for each session\n",
    "KSdirs = [r'path/to/KSdir/Session1', r'Path/to/KSdir/Session2']\n",
    "WavePaths, UnitLabelPaths, ChannelPos = util.paths_fromKS(KSdirs)"
   ]
  },
  {
   "cell_type": "code",
   "execution_count": 3,
   "metadata": {},
   "outputs": [],
   "source": [
    "#read in data and select the good units and exact metadata\n",
    "\n",
    "GoodUnits = util.get_good_units(UnitLabelPaths ) # goood = False to load in ALL units\n",
    "waveform, SessionID, SessionSwitch, WithinSession, param = util.load_good_units(GoodUnits, WavePaths, param)\n",
    "#waveform, SessionID, SessionSwitch, WithinSession, GoodUnits, param = util.load_good_waveforms(WavePaths, UnitLabelPaths, param) # 1-step version of above\n",
    "\n",
    "# create clusInfo, contains all unit id/session related info\n",
    "ClusInfo = {'GoodUnits' : GoodUnits, 'SessionSwitch' : SessionSwitch, 'SessionID' : SessionID, \n",
    "            'OriginalID' : np.concatenate(GoodUnits) }"
   ]
  },
  {
   "cell_type": "code",
   "execution_count": 4,
   "metadata": {},
   "outputs": [],
   "source": [
    "#Get parameters from the wavefunction\n",
    "\n",
    "waveform = pf.detrend_waveform(waveform)\n",
    "\n",
    "MaxSite, goodidx, goodpos, MaxSiteMean = pf.get_max_sites(waveform, ChannelPos,ClusInfo, param)\n",
    "\n",
    "SpatialDecayFit , SpatialDecay,  d_10, AvgCentroid, AvgWaveform, PeakTime = pf.decay_and_average_Waveform(waveform,ChannelPos, goodidx, MaxSite, MaxSiteMean, ClusInfo, param)\n",
    "\n",
    "Amplitude, waveform, AvgWaveform = pf.get_amplitude_shift_Waveform(waveform,AvgWaveform, PeakTime, param)\n",
    "\n",
    "WaveformDuration, AvgWaveformPerTP, WaveIdx = pf.avg_Waveform_PerTP(waveform,ChannelPos, d_10, MaxSiteMean, Amplitude, AvgWaveform, ClusInfo, param)\n"
   ]
  },
  {
   "cell_type": "code",
   "execution_count": 5,
   "metadata": {},
   "outputs": [
    {
     "name": "stderr",
     "output_type": "stream",
     "text": [
      "c:\\Users\\Experiment\\Documents\\temp\\UnitMatch\\UMPy\\Metrics_fun.py:219: RuntimeWarning: invalid value encountered in divide\n",
      "  ang = np.abs( x1[dimid1,:,:,:,:] - x2[dimid1,:,:,:,:]) / np.abs(x1[dimid2,:,:,:,:] - x2[dimid2,:,:,:,:])\n"
     ]
    }
   ],
   "source": [
    "#get Metrics/Scores from the extracted parameters\n",
    "\n",
    "AmpScore = mf.get_simple_metric(Amplitude)\n",
    "SpatialDecayScore = mf.get_simple_metric(SpatialDecay)\n",
    "SpatialDecayFitScore = mf.get_simple_metric(SpatialDecayFit, outlier = True)\n",
    "WVcorrScore = mf.get_WVcorr(AvgWaveform, param)\n",
    "WFMSEscore = mf.get_WaveformMSE(AvgWaveform, param)\n",
    "\n",
    "AvgWaveformPerTPFlip = mf.flip_dim(AvgWaveformPerTP, param)\n",
    "EuclDist = mf.get_Euclidean_dist(AvgWaveformPerTPFlip,param)\n",
    "\n",
    "CentroidDist, CentroidVar = mf.Centroid_metrics(EuclDist, param)\n",
    "\n",
    "EuclDistRC = mf.get_recentered_Euclidean_dist(AvgWaveformPerTPFlip, AvgCentroid, param)\n",
    "\n",
    "CentroidDistRecentered = mf.recentered_metrics(EuclDistRC)\n",
    "TrajAngleScore, TrajDistScore = mf.dist_angle(AvgWaveformPerTPFlip, param)"
   ]
  },
  {
   "cell_type": "code",
   "execution_count": 6,
   "metadata": {},
   "outputs": [],
   "source": [
    "# Average Euc Dist\n",
    "EuclDist = np.nanmin(EuclDist[:,param['PeakLoc'] - param['waveidx'] == 0, :,:].squeeze(), axis = 1 )\n",
    "\n",
    "# TotalScore\n",
    "IncludeThesePairs = np.argwhere( EuclDist < param['MaxDist']) #array indices of pairs to include\n",
    "\n",
    "# Make a dictionary of score to include\n",
    "CentroidOverlordScore = (CentroidDistRecentered + CentroidVar) / 2\n",
    "WaveformScore = (WVcorrScore + WFMSEscore) / 2\n",
    "TrajectoryScore = (TrajAngleScore + TrajDistScore) / 2\n",
    "\n",
    "Scores2Include = {'AmpScore' : AmpScore, 'SpatialDecayScore' : SpatialDecayScore, 'CentroidOverlord' : CentroidOverlordScore,\n",
    "                  'CentroidDist' : CentroidDist, 'WaveformScore' : WaveformScore, 'TrajectoryScore': TrajectoryScore }\n",
    "\n",
    "TotalScore, Predictors = mf.get_total_score(Scores2Include, param)\n",
    "\n",
    "#Initial thresholding\n",
    "\n",
    "ThrsOpt = mf.get_threshold(TotalScore, WithinSession, EuclDist, param, IsFirstPass = True)\n",
    "\n",
    "param['nExpectedMatches'] = np.sum( (TotalScore > ThrsOpt).astype(int))\n",
    "priorMatch = 1 - ( param['nExpectedMatches'] / len(IncludeThesePairs))\n",
    "CandidatePairs = TotalScore > ThrsOpt\n"
   ]
  },
  {
   "cell_type": "code",
   "execution_count": 7,
   "metadata": {},
   "outputs": [
    {
     "name": "stdout",
     "output_type": "stream",
     "text": [
      "Done drift correction per shank for session pair 1 and 2\n"
     ]
    }
   ],
   "source": [
    "#drift\n",
    "drifts, AvgCentroid, AvgWaveformPerTP = mf.drift_nSessions(CandidatePairs, SessionSwitch, AvgCentroid, AvgWaveformPerTP, TotalScore, param)"
   ]
  },
  {
   "cell_type": "code",
   "execution_count": 8,
   "metadata": {},
   "outputs": [],
   "source": [
    "# re-do metric extraction with the drift corrected arrays, for effected params\n",
    "\n",
    "AvgWaveformPerTPFlip = mf.flip_dim(AvgWaveformPerTP, param)\n",
    "EuclDist = mf.get_Euclidean_dist(AvgWaveformPerTPFlip,param)\n",
    "\n",
    "CentroidDist, CentroidVar = mf.Centroid_metrics(EuclDist, param)\n",
    "\n",
    "EuclDistRC = mf.get_recentered_Euclidean_dist(AvgWaveformPerTPFlip, AvgCentroid, param)\n",
    "\n",
    "CentroidDistRecentered = mf.recentered_metrics(EuclDistRC)\n",
    "TrajAngleScore, TrajDistScore = mf.dist_angle(AvgWaveformPerTPFlip, param)\n",
    "\n",
    "# Average Euc Dist\n",
    "EuclDist = np.nanmin(EuclDist[:,param['PeakLoc'] - param['waveidx'] == 0, :,:].squeeze(), axis = 1 )\n",
    "\n",
    "# TotalScore\n",
    "IncludeThesePairs = np.argwhere( EuclDist < param['MaxDist']) #array indices of pairs to include, in ML its IncludeThesePairs[:,1]\n",
    "IncludeThesePairs_idx = np.zeros_like(TotalScore)\n",
    "IncludeThesePairs_idx[EuclDist < param['MaxDist']] = 1 \n",
    "\n",
    "# Make a dictionary of score to include\n",
    "CentroidOverlordScore = (CentroidDistRecentered + CentroidVar) / 2\n",
    "WaveformScore = (WVcorrScore + WFMSEscore) / 2\n",
    "TrajectoryScore = (TrajAngleScore + TrajDistScore) / 2\n",
    "\n",
    "Scores2Include = {'AmpScore' : AmpScore, 'SpatialDecayScore' : SpatialDecayScore, 'CentroidOverlord' : CentroidOverlordScore,\n",
    "                  'CentroidDist' : CentroidDist, 'WaveformScore' : WaveformScore, 'TrajectoryScore': TrajectoryScore }\n",
    "\n",
    "TotalScore, Predictors = mf.get_total_score(Scores2Include, param)\n",
    "ThrsOpt = mf.get_threshold(TotalScore, WithinSession, EuclDist, param, IsFirstPass = False)\n",
    "\n",
    "\n",
    "param['nExpectedMatches'] = np.sum( (TotalScore > ThrsOpt).astype(int))\n",
    "priorMatch = 1 - ( param['nExpectedMatches'] / len(IncludeThesePairs))\n"
   ]
  },
  {
   "cell_type": "code",
   "execution_count": 9,
   "metadata": {},
   "outputs": [],
   "source": [
    "# Bayes analysis\n",
    "ThrsOpt = np.quantile(TotalScore[IncludeThesePairs_idx.astype(bool)], priorMatch)\n",
    "CandidatePairs = TotalScore > ThrsOpt\n",
    "\n",
    "priorMatch = 1 - (param['nExpectedMatches'] / param['nUnits']**2 )\n",
    "Priors = np.array((priorMatch, 1-priorMatch))\n",
    "\n",
    "labels = CandidatePairs.astype(int)\n",
    "Cond = np.unique(labels)\n",
    "ScoreVector = param['ScoreVector']\n",
    "ParameterKernels = np.full((len(ScoreVector), len(Scores2Include), len(Cond)), np.nan)\n"
   ]
  },
  {
   "cell_type": "code",
   "execution_count": 10,
   "metadata": {},
   "outputs": [],
   "source": [
    "\n",
    "ParameterKernels = bf.get_ParameterKernels(Scores2Include, labels, Cond, param, addone = 1)\n",
    "\n",
    "Probability = bf.apply_naive_bayes(ParameterKernels, Priors, Predictors, param, Cond)\n",
    "\n",
    "Output = Probability[:,1].reshape(param['nUnits'],param['nUnits'])\n",
    "\n",
    "#can get match only between out of session ones.."
   ]
  },
  {
   "cell_type": "code",
   "execution_count": 12,
   "metadata": {},
   "outputs": [],
   "source": [
    "#util.compare_units(WeightedAvgWaveform, AvgCentroid, 7,466 )"
   ]
  },
  {
   "cell_type": "code",
   "execution_count": 11,
   "metadata": {},
   "outputs": [
    {
     "name": "stdout",
     "output_type": "stream",
     "text": [
      "The percentage of units matched to themselves is: 95.43795620437956%\n",
      "The percentage of false -ve's then is: 4.56204379562044% \n",
      "\n",
      "The rate of miss-match(es) per expected match 0.07846715328467153\n",
      "The percentage of false +ve's is 0.025972002181648184% for session 1\n",
      "The percentage of false +ve's is 0.03166735508742944% for session 2\n",
      "\n",
      "This assumes that the spike sorter has made no mistakes\n"
     ]
    }
   ],
   "source": [
    "util.evaluate_output(Output, param, WithinSession, SessionSwitch, MatchThreshold = 0.75)"
   ]
  },
  {
   "cell_type": "code",
   "execution_count": 12,
   "metadata": {},
   "outputs": [
    {
     "data": {
      "text/plain": [
       "<matplotlib.colorbar.Colorbar at 0x16fd5bf1d10>"
      ]
     },
     "execution_count": 12,
     "metadata": {},
     "output_type": "execute_result"
    },
    {
     "data": {
      "image/png": "[encoded data removed]",
      "text/plain": [
       "<Figure size 640x480 with 2 Axes>"
      ]
     },
     "metadata": {},
     "output_type": "display_data"
    }
   ],
   "source": [
    "MatchThreshold = 0.5\n",
    "OutputThreshold = np.zeros_like(Output)\n",
    "OutputThreshold[Output > MatchThreshold] = 1\n",
    "\n",
    "plt.imshow(OutputThreshold)\n",
    "#plt.imshow(Output)\n",
    "plt.colorbar()"
   ]
  },
  {
   "cell_type": "code",
   "execution_count": 13,
   "metadata": {},
   "outputs": [
    {
     "data": {
      "text/plain": [
       "array([[  1, 278],\n",
       "       [  4, 282],\n",
       "       [  5, 281],\n",
       "       [  6, 279],\n",
       "       [  6, 465],\n",
       "       [  7, 282],\n",
       "       [  7, 466],\n",
       "       [  9, 287],\n",
       "       [ 10, 288],\n",
       "       [ 11, 471]], dtype=int64)"
      ]
     },
     "execution_count": 13,
     "metadata": {},
     "output_type": "execute_result"
    }
   ],
   "source": [
    "matches = np.argwhere( ((OutputThreshold * WithinSession)) == True)\n",
    "matches[:10]"
   ]
  },
  {
   "cell_type": "code",
   "execution_count": 32,
   "metadata": {},
   "outputs": [],
   "source": [
    "process_info_for_GUI(Output, MatchThreshold, Scores2Include, TotalScore, Amplitude, SpatialDecay,\n",
    "                         AvgCentroid, AvgWaveform, AvgWaveformPerTP, WaveIdx, MaxSite, MaxSiteMean, \n",
    "                         waveform, WithinSession, ChannelPos, ClusInfo, param)"
   ]
  },
  {
   "cell_type": "code",
   "execution_count": 34,
   "metadata": {},
   "outputs": [],
   "source": [
    "IsMatch, NotMatch = run_GUI()"
   ]
  },
  {
   "cell_type": "code",
   "execution_count": 19,
   "metadata": {},
   "outputs": [],
   "source": [
    "Matches = np.argwhere(OutputThreshold == 1)\n",
    "MatchesCurrated = util.currate_matches(MatchesGUI, IsMatch, NotMatch, Mode = 'And')"
   ]
  },
  {
   "cell_type": "code",
   "execution_count": 18,
   "metadata": {},
   "outputs": [],
   "source": [
    "SaveDir = r'Path\\to\\Save\\directory'"
   ]
  },
  {
   "cell_type": "code",
   "execution_count": 20,
   "metadata": {},
   "outputs": [],
   "source": [
    "#save base output\n",
    "#su.save_to_output(SaveDir, Scores2Include, Matches, Output, AvgCentroid, AvgWaveform, AvgWaveformPerTP, MaxSite, TotalScore, OutputThreshold, ClusInfo, param, MatchesCurated = None, SaveMatchTable = True)\n",
    "#save seperate CV output\n",
    "su.save_to_output_seperate_CV(SaveDir, Scores2Include, Matches, Output, AvgCentroid, AvgWaveform, AvgWaveformPerTP, MaxSite,\n",
    "                   TotalScore, MatchThreshold, ClusInfo, param, MatchesCurated = None, SaveMatchTable = True)\n"
   ]
  }
 ],
 "metadata": {
  "kernelspec": {
   "display_name": "base",
   "language": "python",
   "name": "python3"
  },
  "language_info": {
   "codemirror_mode": {
    "name": "ipython",
    "version": 3
   },
   "file_extension": ".py",
   "mimetype": "text/x-python",
   "name": "python",
   "nbconvert_exporter": "python",
   "pygments_lexer": "ipython3",
   "version": "3.11.4"
  }
 },
 "nbformat": 4,
 "nbformat_minor": 2
}
