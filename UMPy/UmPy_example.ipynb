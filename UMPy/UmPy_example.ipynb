{
 "cells": [
  {
   "cell_type": "markdown",
   "metadata": {},
   "source": [
    "UmPy current uses 4 python files which contain the function needed to do the full UnitMatch pipeline, with some helped function to make it easier/analyse it. \n",
    "util.py has folder for easy reading in files, and handling data such as session id's and evaluating the outputs.\n",
    "Param_fun.py has all the funtion used in extracting the parameters from the average wavefunctions\n",
    "metrics_fun.py hass all the funtion used for getting the Metric (e.g scores) as well as drift correction\n",
    "Bayes_fun.py has the function necessary for reating then applying a naive bayes\n",
    "\n",
    "\n",
    "With your testing I would also really apprreciate it if you could make note about what quality of life/ease of use changes I could implement. This includes:\n",
    "1 - making a version where as much as possible is done 'automatically', so I need to know what is the biggest way I can group together the functions, this is like the UnitMatch.M file, So a user could run UM as easily as possible. I still think it would be good to have a ipynb like this ones which runs through the code in more detail, as it would be useful in many cases.\n",
    "2 - what plots/data I shoould display sutomatically as part of functions.\n",
    "\n",
    "\n",
    "use the follwoing to look at 1/2 D infomation :\n",
    "plt.plot( vecotor) to plot 1-D data, can plot a wiht only one 1-D vector\n",
    "\n",
    "plt.imshow( 2-D array) \n",
    "plt.colorbar()"
   ]
  },
  {
   "cell_type": "code",
   "execution_count": 1,
   "metadata": {},
   "outputs": [],
   "source": [
    "%load_ext autoreload\n",
    "%autoreload \n",
    "import Param_fun as pf\n",
    "import Metrics_fun as mf\n",
    "import Bayes_fun as bf\n",
    "import utils as util\n",
    "import numpy as np\n",
    "import matplotlib.pyplot as plt"
   ]
  },
  {
   "cell_type": "code",
   "execution_count": 2,
   "metadata": {},
   "outputs": [],
   "source": [
    "#get default parameters, can add your own before or after!\n",
    "param = util.get_default_param()\n",
    "\n",
    "\n",
    "# Load in the data\n",
    "\n",
    "#The channel position i.e location of active channels is assumed to be the same for all recording sessions\n",
    "ChannelPos = np.load(r'Data\\Mouse1\\AL032\\2019-11-21\\Probe0\\1\\channel_positions.npy')\n",
    "\n",
    "#This makes position 3-D by inserting an axis of all one's in the first axis, to allow easy extension to 3-D coords\n",
    "ChannelPos = np.insert(ChannelPos,0, np.ones(ChannelPos.shape[0]), axis =1)\n",
    "\n",
    "#path to the average waveforms for each session\n",
    "WavePath1 = r'Data\\Mouse1\\AL032\\2019-11-21\\Probe0\\1\\RawWaveforms'\n",
    "WavePath2 = r'Data\\Mouse1\\AL032\\2019-11-22\\Probe0\\1\\RawWaveforms'\n",
    "\n",
    "#path to a tsv file, where the second column contains 'good' for all units you want to include\n",
    "UnitLabelPath1 = r'Data\\Mouse1\\AL032\\2019-11-21\\Probe0\\1\\cluster_group.tsv'\n",
    "UnitLabelPath2 = r'Data\\Mouse1\\AL032\\2019-11-22\\Probe0\\1\\cluster_group.tsv'\n",
    "\n"
   ]
  },
  {
   "cell_type": "code",
   "execution_count": 3,
   "metadata": {},
   "outputs": [],
   "source": [
    "#read in data and select the good units and exact metadata\n",
    "\n",
    "# need to put waveF_path and unit labels as a list\n",
    "WavePaths = [WavePath1 , WavePath2]\n",
    "UnitLabelPaths = [UnitLabelPath1, UnitLabelPath2]\n",
    "\n",
    "GoodUnits = util.get_good_units(UnitLabelPaths) # goood = False to load in ALL units\n",
    "waveform, sessionid, SessionSwitch, WithinSession, param = util.load_good_units(GoodUnits, WavePaths, param)\n",
    "#waveform, sessionid, SessionSwitch, WithinSession, param = util.load_good_waveforms(WavePaths, UnitLabelPaths, param) # 1-step version of above"
   ]
  },
  {
   "cell_type": "code",
   "execution_count": 4,
   "metadata": {},
   "outputs": [],
   "source": [
    "#Get parameters from the wavefunction\n",
    "\n",
    "waveform = pf.detrend_waveform(waveform)\n",
    "\n",
    "MaxSite, goodidx, goodpos, MaxSiteMean = pf.get_max_sites(waveform, ChannelPos, param)\n",
    "\n",
    "SpatialDecayFit , SpatialDecay,  d_10, AvgCentroid, AvgWaveform, PeakTime = pf.decay_and_average_Waveform(waveform,ChannelPos, goodidx, MaxSite, MaxSiteMean, param)\n",
    "\n",
    "Amplitude, waveform, AvgWaveform = pf.get_amplitude_shift_Waveform(waveform,AvgWaveform, PeakTime, param)\n",
    "\n",
    "WaveformDuration, AvgWaveformPerTP, WaveIdx = pf.avg_Waveform_PerTP(waveform,ChannelPos, d_10, MaxSiteMean, Amplitude, AvgWaveform, param)\n"
   ]
  },
  {
   "cell_type": "code",
   "execution_count": 5,
   "metadata": {},
   "outputs": [
    {
     "name": "stderr",
     "output_type": "stream",
     "text": [
      "c:\\Users\\Experiment\\Documents\\temp\\UnitMatch\\UMPy\\Metrics_fun.py:219: RuntimeWarning: invalid value encountered in divide\n",
      "  ang = np.abs( x1[dimid1,:,:,:,:] - x2[dimid1,:,:,:,:]) / np.abs(x1[dimid2,:,:,:,:] - x2[dimid2,:,:,:,:])\n"
     ]
    }
   ],
   "source": [
    "#get Metrics/Scores from the extracted parameters\n",
    "\n",
    "AmpScore = mf.get_simple_metric(Amplitude)\n",
    "SpatialDecayScore = mf.get_simple_metric(SpatialDecay)\n",
    "SpatialDecayFitScore = mf.get_simple_metric(SpatialDecayFit, outlier = True)\n",
    "WVcorrScore = mf.get_WVcorr(AvgWaveform, param)\n",
    "WFMSEscore = mf.get_WaveformMSE(AvgWaveform, param)\n",
    "\n",
    "AvgWaveformPerTPFlip = mf.flip_dim(AvgWaveformPerTP, param)\n",
    "EuclDist = mf.get_Euclidean_dist(AvgWaveformPerTPFlip,param)\n",
    "\n",
    "CentroidDist, CentroidVar = mf.Centroid_metrics(EuclDist, param)\n",
    "\n",
    "EuclDistRC = mf.get_recentered_Euclidean_dist(AvgWaveformPerTPFlip, AvgCentroid, param)\n",
    "\n",
    "CentroidDistRecentered = mf.recentered_metrics(EuclDistRC)\n",
    "TrajAngleScore, TrajDistScore = mf.dist_angle(AvgWaveformPerTPFlip, param)"
   ]
  },
  {
   "cell_type": "code",
   "execution_count": 6,
   "metadata": {},
   "outputs": [],
   "source": [
    "# Average Euc Dist\n",
    "EuclDist = np.nanmin(EuclDist[:,param['PeakLoc'] - param['waveidx'] == 0, :,:].squeeze(), axis = 1 )\n",
    "\n",
    "# TotalScore\n",
    "IncludeThesePairs = np.argwhere( EuclDist < param['MaxDist']) #array indices of pairs to include\n",
    "\n",
    "# Make a dictionary of score to include\n",
    "CentroidOverlordScore = (CentroidDistRecentered + CentroidVar) / 2\n",
    "WaveformScore = (WVcorrScore + WFMSEscore) / 2\n",
    "TrajectoryScore = (TrajAngleScore + TrajDistScore) / 2\n",
    "\n",
    "Scores2Include = {'AmpScore' : AmpScore, 'SpatialDecayScore' : SpatialDecayScore, 'CentroidOverlord' : CentroidOverlordScore,\n",
    "                  'CentroidDist' : CentroidDist, 'WaveformScore' : WaveformScore, 'TrajectoryScore': TrajectoryScore }\n",
    "\n",
    "TotalScore, Predictors = mf.get_total_score(Scores2Include, param)\n",
    "\n",
    "#Initial thresholding\n",
    "\n",
    "ThrsOpt = mf.get_threshold(TotalScore, WithinSession, EuclDist, param, IsFirstPass = True)\n",
    "\n",
    "param['nExpectedMatches'] = np.sum( (TotalScore > ThrsOpt).astype(int))\n",
    "priorMatch = 1 - ( param['nExpectedMatches'] / len(IncludeThesePairs))\n",
    "CandidatePairs = TotalScore > ThrsOpt\n"
   ]
  },
  {
   "cell_type": "code",
   "execution_count": 7,
   "metadata": {},
   "outputs": [
    {
     "name": "stdout",
     "output_type": "stream",
     "text": [
      "Done drift correction per shank for session pair 1 and 2\n"
     ]
    }
   ],
   "source": [
    "#drift\n",
    "drifts, AvgCentroid, AvgWaveformPerTP = mf.drift_nSessions(CandidatePairs, SessionSwitch, AvgCentroid, AvgWaveformPerTP, TotalScore, param)"
   ]
  },
  {
   "cell_type": "code",
   "execution_count": 8,
   "metadata": {},
   "outputs": [],
   "source": [
    "# re-do metric extraction with the drift corrected arrays, for effected params\n",
    "\n",
    "AvgWaveformPerTPFlip = mf.flip_dim(AvgWaveformPerTP, param)\n",
    "EuclDist = mf.get_Euclidean_dist(AvgWaveformPerTPFlip,param)\n",
    "\n",
    "CentroidDist, CentroidVar = mf.Centroid_metrics(EuclDist, param)\n",
    "\n",
    "EuclDistRC = mf.get_recentered_Euclidean_dist(AvgWaveformPerTPFlip, AvgCentroid, param)\n",
    "\n",
    "CentroidDistRecentered = mf.recentered_metrics(EuclDistRC)\n",
    "TrajAngleScore, TrajDistScore = mf.dist_angle(AvgWaveformPerTPFlip, param)\n",
    "\n",
    "# Average Euc Dist\n",
    "EuclDist = np.nanmin(EuclDist[:,param['PeakLoc'] - param['waveidx'] == 0, :,:].squeeze(), axis = 1 )\n",
    "\n",
    "# TotalScore\n",
    "IncludeThesePairs = np.argwhere( EuclDist < param['MaxDist']) #array indices of pairs to include, in ML its IncludeThesePairs[:,1]\n",
    "IncludeThesePairs_idx = np.zeros_like(TotalScore)\n",
    "IncludeThesePairs_idx[EuclDist < param['MaxDist']] = 1 \n",
    "\n",
    "# Make a dictionary of score to include\n",
    "CentroidOverlordScore = (CentroidDistRecentered + CentroidVar) / 2\n",
    "WaveformScore = (WVcorrScore + WFMSEscore) / 2\n",
    "TrajectoryScore = (TrajAngleScore + TrajDistScore) / 2\n",
    "\n",
    "Scores2Include = {'AmpScore' : AmpScore, 'SpatialDecayScore' : SpatialDecayScore, 'CentroidOverlord' : CentroidOverlordScore,\n",
    "                  'CentroidDist' : CentroidDist, 'WaveformScore' : WaveformScore, 'TrajectoryScore': TrajectoryScore }\n",
    "\n",
    "TotalScore, Predictors = mf.get_total_score(Scores2Include, param)\n",
    "ThrsOpt = mf.get_threshold(TotalScore, WithinSession, EuclDist, param, IsFirstPass = False)\n",
    "\n",
    "\n",
    "param['nExpectedMatches'] = np.sum( (TotalScore > ThrsOpt).astype(int))\n",
    "priorMatch = 1 - ( param['nExpectedMatches'] / len(IncludeThesePairs))\n"
   ]
  },
  {
   "cell_type": "code",
   "execution_count": 9,
   "metadata": {},
   "outputs": [],
   "source": [
    "# Bayes analysis\n",
    "ThrsOpt = np.quantile(TotalScore[IncludeThesePairs_idx.astype(bool)], priorMatch)\n",
    "CandidatePairs = TotalScore > ThrsOpt\n",
    "\n",
    "priorMatch = 1 - (param['nExpectedMatches'] / param['nUnits']**2 )\n",
    "Priors = np.array((priorMatch, 1-priorMatch))\n",
    "\n",
    "labels = CandidatePairs.astype(int)\n",
    "Cond = np.unique(labels)\n",
    "ScoreVector = param['ScoreVector']\n",
    "ParameterKernels = np.full((len(ScoreVector), len(Scores2Include), len(Cond)), np.nan)\n"
   ]
  },
  {
   "cell_type": "code",
   "execution_count": 10,
   "metadata": {},
   "outputs": [],
   "source": [
    "\n",
    "ParameterKernels = bf.get_ParameterKernels(Scores2Include, labels, Cond, param, addone = 1)\n",
    "\n",
    "Probability = bf.apply_naive_bayes(ParameterKernels, Priors, Predictors, param, Cond)\n",
    "\n",
    "Output = Probability[:,1].reshape(param['nUnits'],param['nUnits'])\n",
    "\n",
    "#can get match only between out of session ones.."
   ]
  },
  {
   "cell_type": "code",
   "execution_count": 11,
   "metadata": {},
   "outputs": [],
   "source": [
    "#util.compare_units(WeightedAvgWaveform, AvgCentroid, 7,466 )"
   ]
  },
  {
   "cell_type": "code",
   "execution_count": 12,
   "metadata": {},
   "outputs": [
    {
     "name": "stdout",
     "output_type": "stream",
     "text": [
      "The percentage of units matched to themselves is: 94.8905109489051%\n",
      "The percentage of false -ve's then is: 5.109489051094897% \n",
      "\n",
      "The rate of miss-match(es) per expected match 0.08759124087591241\n",
      "The percentage of false +ve's is 0.028569202399813004% for session 1\n",
      "The percentage of false +ve's is 0.035797879664050666% for session 2\n",
      "\n",
      "This assumes that the spike sorter has made no mistakes\n"
     ]
    }
   ],
   "source": [
    "util.evaluate_output(Output, param, WithinSession, SessionSwitch, MatchThreshold = 0.75)"
   ]
  },
  {
   "cell_type": "code",
   "execution_count": 13,
   "metadata": {},
   "outputs": [
    {
     "data": {
      "text/plain": [
       "<matplotlib.colorbar.Colorbar at 0x2768104bcd0>"
      ]
     },
     "execution_count": 13,
     "metadata": {},
     "output_type": "execute_result"
    },
    {
     "data": {
      "image/png": "[encoded data removed]",
      "text/plain": [
       "<Figure size 640x480 with 2 Axes>"
      ]
     },
     "metadata": {},
     "output_type": "display_data"
    }
   ],
   "source": [
    "MatchThreshold = 0.5\n",
    "OutputThreshold = np.zeros_like(Output)\n",
    "OutputThreshold[Output > MatchThreshold] = 1\n",
    "\n",
    "plt.imshow(OutputThreshold)\n",
    "#plt.imshow(Output)\n",
    "plt.colorbar()"
   ]
  },
  {
   "cell_type": "code",
   "execution_count": 14,
   "metadata": {},
   "outputs": [
    {
     "data": {
      "text/plain": [
       "array([[  1, 278],\n",
       "       [  4, 282],\n",
       "       [  5, 281],\n",
       "       [  6, 279],\n",
       "       [  6, 465],\n",
       "       [  7, 282],\n",
       "       [  7, 466],\n",
       "       [  9, 287],\n",
       "       [ 10, 288],\n",
       "       [ 11, 471]], dtype=int64)"
      ]
     },
     "execution_count": 14,
     "metadata": {},
     "output_type": "execute_result"
    }
   ],
   "source": [
    "matches = np.argwhere( ((OutputThreshold * WithinSession)) == True)\n",
    "matches[:10]"
   ]
  },
  {
   "cell_type": "code",
   "execution_count": 15,
   "metadata": {},
   "outputs": [
    {
     "name": "stdout",
     "output_type": "stream",
     "text": [
      "The percentage of units matched to themselves is: 92.88321167883211%\n",
      "The percentage of false -ve's then is: 7.116788321167888% \n",
      "\n",
      "The rate of miss-match(es) per expected match 0.05291970802919708\n",
      "The percentage of false +ve's is 0.018180401527153726% for session 1\n",
      "The percentage of false +ve's is 0.020652622883106157% for session 2\n",
      "\n",
      "This assumes that the spike sorter has made no mistakes\n",
      "\n",
      "This is now the baseline date: \n",
      "\n",
      "The percentage of units matched to themselves is: 93.43065693430657%\n",
      "The percentage of false -ve's then is: 6.569343065693431% \n",
      "\n",
      "The rate of miss-match(es) per expected match 0.051094890510948905\n",
      "The percentage of false +ve's is 0.018180401527153726% for session 1\n",
      "The percentage of false +ve's is 0.019275781357565743% for session 2\n",
      "\n",
      "This assumes that the spike sorter has made no mistakes\n"
     ]
    },
    {
     "data": {
      "text/plain": [
       "<matplotlib.colorbar.Colorbar at 0x27681a55450>"
      ]
     },
     "execution_count": 15,
     "metadata": {},
     "output_type": "execute_result"
    },
    {
     "data": {
      "image/png": "[encoded data removed]",
      "text/plain": [
       "<Figure size 640x480 with 2 Axes>"
      ]
     },
     "metadata": {},
     "output_type": "display_data"
    }
   ],
   "source": [
    "# Benchmark / compare to old results\n",
    "\n",
    "#save the benchline output\n",
    "#np.save('OutputBase.npy', Output)\n",
    "\n",
    "#load in the baseline output\n",
    "OutputBase = np.load('Output_base.npy')\n",
    "\n",
    "#Compare the two, we are assuming all metadata/parameters are the same\n",
    "MatchThreshold = 0.9\n",
    "util.evaluate_output(Output, param, WithinSession, SessionSwitch, MatchThreshold = MatchThreshold)\n",
    "print('\\nThis is now the baseline date: \\n')\n",
    "util.evaluate_output(OutputBase, param, WithinSession, SessionSwitch, MatchThreshold = MatchThreshold)\n",
    "\n",
    "plt.imshow(Output - OutputBase)\n",
    "plt.colorbar()\n",
    "\n",
    "# print('Index\\'s where the arguments are not the same')\n",
    "# np.argwhere(np.isclose(Output, Output_base) == False)"
   ]
  }
 ],
 "metadata": {
  "kernelspec": {
   "display_name": "base",
   "language": "python",
   "name": "python3"
  },
  "language_info": {
   "codemirror_mode": {
    "name": "ipython",
    "version": 3
   },
   "file_extension": ".py",
   "mimetype": "text/x-python",
   "name": "python",
   "nbconvert_exporter": "python",
   "pygments_lexer": "ipython3",
   "version": "3.11.4"
  }
 },
 "nbformat": 4,
 "nbformat_minor": 2
}
