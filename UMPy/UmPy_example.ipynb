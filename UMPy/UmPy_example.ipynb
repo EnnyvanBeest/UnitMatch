{
 "cells": [
  {
   "cell_type": "markdown",
   "metadata": {},
   "source": [
    "UmPy current uses 4 python files which contain the function needed to do the full UnitMatch pipeline, with some helped function to make it easier/analyse it. \n",
    "util.py has folder for easy reading in files, and handling data such as session id's and evaluating the outputs.\n",
    "Param_fun.py has all the funtion used in extracting the parameters from the average wavefunctions\n",
    "metrics_fun.py hass all the funtion used for getting the Metric (e.g scores) as well as drift correction\n",
    "Bayes_fun.py has the function necessary for reating then applying a naive bayes\n",
    "\n",
    "\n",
    "With your testing I would also really apprreciate it if you could make note about what quality of life/ease of use changes I could implement. This includes:\n",
    "1 - making a version where as much as possible is done 'automatically', so I need to know what is the biggest way I can group together the functions, this is like the UnitMatch.M file, So a user could run UM as easily as possible. I still think it would be good to have a ipynb like this ones which runs through the code in more detail, as it would be useful in many cases.\n",
    "2 - what plots/data I shoould display sutomatically as part of functions.\n",
    "\n",
    "\n",
    "use the follwoing to look at 1/2 D infomation :\n",
    "plt.plot( vecotor) to plot 1-D data, can plot a wiht only one 1-D vector\n",
    "\n",
    "plt.imshow( 2-D array) \n",
    "plt.colorbar()"
   ]
  },
  {
   "cell_type": "code",
   "execution_count": 1,
   "metadata": {},
   "outputs": [],
   "source": [
    "%load_ext autoreload\n",
    "%autoreload \n",
    "import Param_fun as pf\n",
    "import Metrics_fun as mf\n",
    "import Bayes_fun as bf\n",
    "import utils as util\n",
    "import numpy as np\n",
    "import matplotlib.pyplot as plt"
   ]
  },
  {
   "cell_type": "code",
   "execution_count": 2,
   "metadata": {},
   "outputs": [],
   "source": [
    "#get default parameters, can add your own before or after!\n",
    "param = util.get_default_param()\n",
    "\n",
    "\n",
    "# Load in the data\n",
    "\n",
    "#The channel position i.e location of active channels is assumed to be the same for all recording sessions\n",
    "ChannelPos = np.load(r'Data\\Mouse1\\AL032\\2019-11-21\\Probe0\\1\\channel_positions.npy')\n",
    "\n",
    "#This makes position 3-D by inserting an axis of all one's in the first axis, to allow easy extension to 3-D coords\n",
    "ChannelPos = np.insert(ChannelPos,0, np.ones(ChannelPos.shape[0]), axis =1)\n",
    "\n",
    "#path to the average waveforms for each session\n",
    "WaveF_path1 = r'Data\\Mouse1\\AL032\\2019-11-21\\Probe0\\1\\RawWaveforms'\n",
    "WaveF_path2 = r'Data\\Mouse1\\AL032\\2019-11-22\\Probe0\\1\\RawWaveforms'\n",
    "\n",
    "#path to a tsv file, where the second column contains 'good' for all units you want to include\n",
    "unit_label_path1 = r'Data\\Mouse1\\AL032\\2019-11-21\\Probe0\\1\\cluster_group.tsv'\n",
    "unit_label_path2 = r'Data\\Mouse1\\AL032\\2019-11-22\\Probe0\\1\\cluster_group.tsv'\n",
    "\n"
   ]
  },
  {
   "cell_type": "code",
   "execution_count": 3,
   "metadata": {},
   "outputs": [],
   "source": [
    "#read in data and select the good units and exact metadata\n",
    "\n",
    "# #loads in waveforms, \n",
    "# waveform1 = util.get_waveform(WaveF_path1)\n",
    "# waveform2 = util.get_waveform(WaveF_path2)\n",
    "\n",
    "# #selects 'good' units \n",
    "# goodunit_idx1 = util.get_good_unit_idx(unit_label_path1)\n",
    "# waveform1 = util.good_units(waveform1, goodunit_idx1)\n",
    "# goodunit_idx2 = util.get_good_unit_idx(unit_label_path2)\n",
    "# waveform2 = util.good_units(waveform2, goodunit_idx2)\n",
    "\n",
    "# #joins the waveforms together, and keep track of length of each session\n",
    "# waveform = np.concatenate((waveform1,waveform2), axis = 0 )\n",
    "# n_units_perday = np.asarray([waveform1.shape[0], waveform2.shape[0]])\n",
    "\n",
    "# # assigns a session id to each units and notes when the sessions switch\n",
    "# param['n_units'], sessionid, SessionSwitch, param['n_days'] = util.get_session_data(n_units_perday)\n",
    "# WithinSession = util.get_within_session(sessionid, param)\n",
    "# param['n_channels'] = waveform.shape[2]\n",
    "\n",
    "\n",
    "\n",
    "# or can use, this works for n_sessions \n",
    "# need to put waveF_path and unit labels as a list\n",
    "WaveF_paths = [WaveF_path1 , WaveF_path2]\n",
    "unit_label_paths = [unit_label_path1, unit_label_path2]\n",
    "\n",
    "waveform, sessionid, SessionSwitch, WithinSession, param = util.load_good_waveforms(WaveF_paths, unit_label_paths, param)"
   ]
  },
  {
   "cell_type": "code",
   "execution_count": 4,
   "metadata": {},
   "outputs": [],
   "source": [
    "#Get parameters from the wavefunction\n",
    "\n",
    "waveform = pf.detrend_waveform(waveform)\n",
    "\n",
    "MaxSite, good_idx, good_pos, MaxSiteMean = pf.get_max_sites(waveform, ChannelPos, param)\n",
    "\n",
    "SpatialDecayFit , SpatialDecay,  d_10, AvgCentroid, WeightedAvgWaveF, PeakTime = pf.decay_and_average_WaveF(waveform,ChannelPos, good_idx, MaxSite, MaxSiteMean, param)\n",
    "\n",
    "Amplitude, waveform, WeightedAvgWaveF = pf.get_amplitude_shift_WaveF(waveform,WeightedAvgWaveF, PeakTime, param)\n",
    "\n",
    "WaveformDuration, WeightedAvgWaveF_PerTP, WaveIdx = pf.avg_WaveF_PerTP(waveform,ChannelPos, d_10, MaxSiteMean, Amplitude, WeightedAvgWaveF, param)\n"
   ]
  },
  {
   "cell_type": "code",
   "execution_count": 5,
   "metadata": {},
   "outputs": [
    {
     "name": "stderr",
     "output_type": "stream",
     "text": [
      "c:\\Users\\Experiment\\Documents\\temp\\UnitMatch\\UMPy\\Metrics_fun.py:219: RuntimeWarning: invalid value encountered in divide\n",
      "  ang = np.abs( x1[dimid1,:,:,:,:] - x2[dimid1,:,:,:,:]) / np.abs(x1[dimid2,:,:,:,:] - x2[dimid2,:,:,:,:])\n"
     ]
    }
   ],
   "source": [
    "#get Metrics/Scores from the extracted parameters\n",
    "\n",
    "Amp_score = mf.get_simple_metric(Amplitude)\n",
    "SD_score = mf.get_simple_metric(SpatialDecay)\n",
    "SDF_score = mf.get_simple_metric(SpatialDecayFit, outlier = True)\n",
    "WVcorr_score = mf.get_WVcorr(WeightedAvgWaveF, param)\n",
    "WFMSE_score = mf.get_WaveFormMSE(WeightedAvgWaveF, param)\n",
    "\n",
    "WAW_PerTP_flip = mf.flip_dim(WeightedAvgWaveF_PerTP, param)\n",
    "EuclDist = mf.get_Euclidean_dist(WAW_PerTP_flip,param)\n",
    "\n",
    "CentroidDist, CentroidVar = mf.Centroid_metrics(EuclDist, param)\n",
    "\n",
    "EuclDist_2 = mf.get_recentered_Euclidean_dist(WAW_PerTP_flip, AvgCentroid, param)\n",
    "\n",
    "CentroidDistRecentered = mf.recentered_metrics(EuclDist_2)\n",
    "TrajAngle_score, TrajDist_score = mf.dist_angle(WAW_PerTP_flip, param)"
   ]
  },
  {
   "cell_type": "code",
   "execution_count": 6,
   "metadata": {},
   "outputs": [],
   "source": [
    "# Average Euc Dist\n",
    "EuclDist = np.nanmin(EuclDist[:,param['PeakLoc'] - param['waveidx'] == 0, :,:].squeeze(), axis = 1 )\n",
    "\n",
    "# TotalScore\n",
    "IncludeThesePairs = np.argwhere( EuclDist < param['MaxDist']) #array indices of pairs to include\n",
    "\n",
    "# Make a dictionary of score to include\n",
    "CentroidOverlord_score = (CentroidDistRecentered + CentroidVar) / 2\n",
    "Waveform_score = (WVcorr_score + WFMSE_score) / 2\n",
    "Trajectory_score = (TrajAngle_score + TrajDist_score) / 2\n",
    "\n",
    "Scores2Include = {'Amp_score' : Amp_score, 'SD_score' : SD_score, 'CentroidOverlord' : CentroidOverlord_score,\n",
    "                  'CentroidDist' : CentroidDist, 'Waveform_score' : Waveform_score, 'Trajectory_score': Trajectory_score }\n",
    "\n",
    "TotalScore, Predictors = mf.get_total_score(Scores2Include, param)\n",
    "\n",
    "#Initial thresholding\n",
    "\n",
    "ThrsOpt = mf.get_threshold(TotalScore, WithinSession, EuclDist, param, is_first_pass = True)\n",
    "\n",
    "param['nExpectedMatches'] = np.sum( (TotalScore > ThrsOpt).astype(int))\n",
    "priorMatch = 1 - ( param['nExpectedMatches'] / len(IncludeThesePairs))\n",
    "CandidatePairs = TotalScore > ThrsOpt\n"
   ]
  },
  {
   "cell_type": "code",
   "execution_count": 7,
   "metadata": {},
   "outputs": [],
   "source": [
    "# basic drift\n",
    "#drift, AvgCentroid, WeightedAvgWaveF_PerTP = mf.drift_correction_basic(CandidatePairs, SessionSwitch, AvgCentroid, WeightedAvgWaveF_PerTP)\n",
    "\n",
    "# or for multiple sessions      \n",
    "\n",
    "drifts, AvgCentroid, WeightedAvgWaveF_PerTP = mf.drift_n_days(CandidatePairs, SessionSwitch, AvgCentroid, WeightedAvgWaveF_PerTP, param)"
   ]
  },
  {
   "cell_type": "code",
   "execution_count": 8,
   "metadata": {},
   "outputs": [],
   "source": [
    "# re-do metric extraction with the drift corrected arrays, for effected params\n",
    "\n",
    "WAW_PerTP_flip = mf.flip_dim(WeightedAvgWaveF_PerTP, param)\n",
    "EuclDist = mf.get_Euclidean_dist(WAW_PerTP_flip,param)\n",
    "\n",
    "CentroidDist, CentroidVar = mf.Centroid_metrics(EuclDist, param)\n",
    "\n",
    "EuclDist_2 = mf.get_recentered_Euclidean_dist(WAW_PerTP_flip, AvgCentroid, param)\n",
    "\n",
    "CentroidDistRecentered = mf.recentered_metrics(EuclDist_2)\n",
    "TrajAngle_score, TrajDist_score = mf.dist_angle(WAW_PerTP_flip, param)\n",
    "\n",
    "# Average Euc Dist\n",
    "EuclDist = np.nanmin(EuclDist[:,param['PeakLoc'] - param['waveidx'] == 0, :,:].squeeze(), axis = 1 )\n",
    "\n",
    "# TotalScore\n",
    "IncludeThesePairs = np.argwhere( EuclDist < param['MaxDist']) #array indices of pairs to include, in ML its IncludeThesePairs[:,1]\n",
    "IncludeThesePairs_idx = np.zeros_like(TotalScore)\n",
    "IncludeThesePairs_idx[EuclDist < param['MaxDist']] = 1 \n",
    "\n",
    "# Make a dictionary of score to include\n",
    "CentroidOverlord_score = (CentroidDistRecentered + CentroidVar) / 2\n",
    "Waveform_score = (WVcorr_score + WFMSE_score) / 2\n",
    "Trajectory_score = (TrajAngle_score + TrajDist_score) / 2\n",
    "\n",
    "Scores2Include = {'Amp_score' : Amp_score, 'SD_score' : SD_score, 'CentroidOverlord' : CentroidOverlord_score,\n",
    "                  'CentroidDist' : CentroidDist, 'Waveform_score' : Waveform_score, 'Trajectory_score': Trajectory_score }\n",
    "\n",
    "TotalScore, Predictors = mf.get_total_score(Scores2Include, param)\n",
    "ThrsOpt = mf.get_threshold(TotalScore, WithinSession, EuclDist, param, is_first_pass = False)\n",
    "\n",
    "\n",
    "param['nExpectedMatches'] = np.sum( (TotalScore > ThrsOpt).astype(int))\n",
    "priorMatch = 1 - ( param['nExpectedMatches'] / len(IncludeThesePairs))\n"
   ]
  },
  {
   "cell_type": "code",
   "execution_count": 9,
   "metadata": {},
   "outputs": [],
   "source": [
    "# Bayes analysis\n",
    "ThrsOpt = np.quantile(TotalScore[IncludeThesePairs_idx.astype(bool)], priorMatch)\n",
    "CandidatePairs = TotalScore > ThrsOpt\n",
    "\n",
    "priorMatch = 1 - (param['nExpectedMatches'] / param['n_units']**2 )\n",
    "Priors = np.array((priorMatch, 1-priorMatch))\n",
    "\n",
    "labels = CandidatePairs.astype(int)\n",
    "Cond = np.unique(labels)\n",
    "ScoreVector = param['ScoreVector']\n",
    "ParameterKernels = np.full((len(ScoreVector), len(Scores2Include), len(Cond)), np.nan)\n"
   ]
  },
  {
   "cell_type": "code",
   "execution_count": 10,
   "metadata": {},
   "outputs": [],
   "source": [
    "\n",
    "ParameterKernels = bf.get_ParameterKernels(Scores2Include, labels, Cond, param, addone = 1)\n",
    "\n",
    "Probability = bf.apply_naive_bayes(ParameterKernels, Priors, Predictors, param, Cond)\n",
    "\n",
    "Output = Probability[:,1].reshape(param['n_units'],param['n_units'])\n",
    "\n",
    "#can get match only between out of session ones.."
   ]
  },
  {
   "cell_type": "code",
   "execution_count": 11,
   "metadata": {},
   "outputs": [],
   "source": [
    "#util.compare_units(WeightedAvgWaveF, AvgCentroid, 7,466 )"
   ]
  },
  {
   "cell_type": "code",
   "execution_count": 12,
   "metadata": {},
   "outputs": [
    {
     "name": "stdout",
     "output_type": "stream",
     "text": [
      "The percentage of units matched to themselves is: 95.8029197080292%\n",
      "The percentage of false -ve's then is: 4.197080291970806% \n",
      "\n",
      "The rate of miss-match(es) per expected match 0.08759124087591241\n",
      "The percentage of false +ve's is 0.028569202399813004% for session 1\n",
      "The percentage of false +ve's is 0.035797879664050666% for session 2\n",
      "\n",
      "This assumes that the spike sorter has made no mistakes\n"
     ]
    }
   ],
   "source": [
    "util.evaluate_output(Output, param, WithinSession, SessionSwitch, match_threshold = 0.75)"
   ]
  },
  {
   "cell_type": "code",
   "execution_count": 13,
   "metadata": {},
   "outputs": [
    {
     "data": {
      "text/plain": [
       "<matplotlib.colorbar.Colorbar at 0x179a28881d0>"
      ]
     },
     "execution_count": 13,
     "metadata": {},
     "output_type": "execute_result"
    },
    {
     "data": {
      "image/png": "[encoded data removed]",
      "text/plain": [
       "<Figure size 640x480 with 2 Axes>"
      ]
     },
     "metadata": {},
     "output_type": "display_data"
    }
   ],
   "source": [
    "match_threshold = 0.5\n",
    "thrs_output = np.zeros_like(Output)\n",
    "thrs_output[Output > match_threshold] = 1\n",
    "\n",
    "plt.imshow(thrs_output)\n",
    "#plt.imshow(Output)\n",
    "plt.colorbar()"
   ]
  },
  {
   "cell_type": "code",
   "execution_count": 14,
   "metadata": {},
   "outputs": [
    {
     "data": {
      "text/plain": [
       "array([[  1, 278],\n",
       "       [  4, 282],\n",
       "       [  5, 281],\n",
       "       [  6, 279],\n",
       "       [  6, 465],\n",
       "       [  7, 282],\n",
       "       [  7, 466],\n",
       "       [  9, 287],\n",
       "       [ 10, 288],\n",
       "       [ 11, 471]], dtype=int64)"
      ]
     },
     "execution_count": 14,
     "metadata": {},
     "output_type": "execute_result"
    }
   ],
   "source": [
    "matches = np.argwhere( ((thrs_output * WithinSession)) == True)\n",
    "matches[:10]"
   ]
  }
 ],
 "metadata": {
  "kernelspec": {
   "display_name": "base",
   "language": "python",
   "name": "python3"
  },
  "language_info": {
   "codemirror_mode": {
    "name": "ipython",
    "version": 3
   },
   "file_extension": ".py",
   "mimetype": "text/x-python",
   "name": "python",
   "nbconvert_exporter": "python",
   "pygments_lexer": "ipython3",
   "version": "3.11.4"
  }
 },
 "nbformat": 4,
 "nbformat_minor": 2
}
