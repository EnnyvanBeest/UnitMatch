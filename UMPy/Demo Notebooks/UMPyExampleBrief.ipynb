{
 "cells": [
  {
   "cell_type": "markdown",
   "metadata": {},
   "source": [
    "# This demonotebook, is a guide on the simplest way to run Unit Match in python"
   ]
  },
  {
   "cell_type": "code",
   "execution_count": 1,
   "metadata": {},
   "outputs": [
    {
     "name": "stderr",
     "output_type": "stream",
     "text": [
      "/Users/bouromain/Documents/localDev/UnitMatch/UMPy/UMPy/GUI.py:1258: SyntaxWarning: invalid escape sequence '\\m'\n",
      "  MainAx.set_xlabel('Xpos ($\\mu$m)', size = 14)\n",
      "/Users/bouromain/Documents/localDev/UnitMatch/UMPy/UMPy/GUI.py:1259: SyntaxWarning: invalid escape sequence '\\m'\n",
      "  MainAx.set_ylabel('Ypos ($\\mu$m)', size = 14)\n"
     ]
    }
   ],
   "source": [
    "# %load_ext autoreload\n",
    "# %autoreload \n",
    "\n",
    "import sys\n",
    "from pathlib import Path\n",
    "\n",
    "import UMPy.Bayes_fun as bf\n",
    "import UMPy.utils as util\n",
    "import UMPy.Overlord as ov\n",
    "import numpy as np\n",
    "import matplotlib.pyplot as plt\n",
    "import UMPy.Save_utils as su\n",
    "import UMPy.GUI as gui"
   ]
  },
  {
   "cell_type": "markdown",
   "metadata": {},
   "source": [
    "#### Set params and give path to input data (typically a KiloSort directory with the extract RawWaveform folder)"
   ]
  },
  {
   "cell_type": "code",
   "execution_count": null,
   "metadata": {},
   "outputs": [],
   "source": [
    "#get default parameters, can add your own before or after!\n",
    "param = util.get_default_param()\n",
    "\n",
    "#Give the paths to the KS directories for each session\n",
    "#If you don't have a dir with channel_positions.npy etc look at the detailed example for supplying paths separately \n",
    "KSdirs = [r'path/to/KSdir/Session1', r'Path/to/KSdir/Session2']\n",
    "WavePaths, UnitLabelPaths, ChannelPos = util.paths_fromKS(KSdirs)"
   ]
  },
  {
   "cell_type": "markdown",
   "metadata": {},
   "source": [
    "#### Run the Unit Match process\n",
    "1. Extract parameters from the waveforms e.g Amplitudes, weighted average waveforms and Spatial Decay lengths\n",
    "2. Calculate metrics/scores for matching e.g Amplitude Score and Waveform similarity\n",
    "3. Using putative matches find a estimate of drift correction between session (can be done per shank for 2.0 probes)\n",
    "4. Re-Calculate metrics/scores with the drift corrected metrics\n",
    "5. Use a naive Bayes classifier to get suggested 'matches' and 'non'matches'\n",
    "6. (Optional) run the GUIto curated the suggest matches and investigated the UnitMatch results"
   ]
  },
  {
   "cell_type": "code",
   "execution_count": null,
   "metadata": {},
   "outputs": [],
   "source": [
    "#read in data and select the good units and exact metadata\n",
    "waveform, SessionID, SessionSwitch, WithinSession, GoodUnits, param = util.load_good_waveforms(WavePaths, UnitLabelPaths, param) # 1-step version of above\n",
    "\n",
    "# create clusInfo, contains all unit id/session related info\n",
    "ClusInfo = {'GoodUnits' : GoodUnits, 'SessionSwitch' : SessionSwitch, 'SessionID' : SessionID, \n",
    "            'OriginalID' : np.concatenate(GoodUnits) }\n",
    "\n",
    "#Extract parameters from waveform\n",
    "ExtractedWaveProperties = ov.extract_parameters(waveform, ChannelPos, ClusInfo, param)\n",
    "\n",
    "#Extract metric scores\n",
    "TotalScore, CandidatePairs, Scores2Include, Predictors  = ov.extract_metric_scores(ExtractedWaveProperties, SessionSwitch, WithinSession, param, niter  = 2)\n",
    "\n",
    "#Probability analysis\n",
    "priorMatch = 1 - (param['nExpectedMatches'] / param['nUnits']**2 ) # fredom of choose in prior prob?\n",
    "Priors = np.array((priorMatch, 1-priorMatch))\n",
    "\n",
    "labels = CandidatePairs.astype(int)\n",
    "Cond = np.unique(labels)\n",
    "ScoreVector = param['ScoreVector']\n",
    "ParameterKernels = np.full((len(ScoreVector), len(Scores2Include), len(Cond)), np.nan)\n",
    "\n",
    "ParameterKernels = bf.get_ParameterKernels(Scores2Include, labels, Cond, param, addone = 1)\n",
    "\n",
    "Probability = bf.apply_naive_bayes(ParameterKernels, Priors, Predictors, param, Cond)\n",
    "\n",
    "Output = Probability[:,1].reshape(param['nUnits'],param['nUnits'])"
   ]
  },
  {
   "cell_type": "code",
   "execution_count": null,
   "metadata": {},
   "outputs": [],
   "source": [
    "util.evaluate_output(Output, param, WithinSession, SessionSwitch, MatchThreshold = 0.75)\n",
    "\n",
    "MatchThreshold = param['MatchThreshold']\n",
    "#MatchThreshold = try different values here!\n",
    "\n",
    "OutputThreshold = np.zeros_like(Output)\n",
    "OutputThreshold[Output > MatchThreshold] = 1\n",
    "\n",
    "plt.imshow(OutputThreshold, cmap = 'Greys')\n"
   ]
  },
  {
   "cell_type": "code",
   "execution_count": null,
   "metadata": {},
   "outputs": [],
   "source": [
    "Amplitude = ExtractedWaveProperties['Amplitude']\n",
    "SpatialDecay = ExtractedWaveProperties['SpatialDecay']\n",
    "AvgCentroid = ExtractedWaveProperties['AvgCentroid']\n",
    "AvgWaveform = ExtractedWaveProperties['AvgWaveform']\n",
    "AvgWaveformPerTP = ExtractedWaveProperties['AvgWaveformPerTP']\n",
    "WaveIdx = ExtractedWaveProperties['WaveIdx']\n",
    "MaxSite = ExtractedWaveProperties['MaxSite']\n",
    "MaxSiteMean = ExtractedWaveProperties['MaxSiteMean']\n",
    "gui.process_info_for_GUI(Output, MatchThreshold, Scores2Include, TotalScore, Amplitude, SpatialDecay,\n",
    "                         AvgCentroid, AvgWaveform, AvgWaveformPerTP, WaveIdx, MaxSite, MaxSiteMean, \n",
    "                         waveform, WithinSession, ChannelPos, ClusInfo, param)\n"
   ]
  },
  {
   "cell_type": "code",
   "execution_count": null,
   "metadata": {},
   "outputs": [],
   "source": [
    "IsMatch, NotMatch, MatchesGUI = gui.run_GUI()"
   ]
  },
  {
   "cell_type": "code",
   "execution_count": null,
   "metadata": {},
   "outputs": [],
   "source": [
    "Matches = np.argwhere(MatchThreshold == 1)\n",
    "\n",
    "SaveDir = r'Path/to/save/directory'\n",
    "su.save_to_output(SaveDir, Scores2Include, Matches, Output, AvgCentroid, AvgWaveform, AvgWaveformPerTP, MaxSite,\n",
    "                   TotalScore, OutputThreshold, ClusInfo, param, MatchesCurated = None, SaveMatchTable = True)"
   ]
  }
 ],
 "metadata": {
  "kernelspec": {
   "display_name": "Python 3 (ipykernel)",
   "language": "python",
   "name": "python3"
  },
  "language_info": {
   "codemirror_mode": {
    "name": "ipython",
    "version": 3
   },
   "file_extension": ".py",
   "mimetype": "text/x-python",
   "name": "python",
   "nbconvert_exporter": "python",
   "pygments_lexer": "ipython3",
   "version": "3.12.2"
  }
 },
 "nbformat": 4,
 "nbformat_minor": 2
}
