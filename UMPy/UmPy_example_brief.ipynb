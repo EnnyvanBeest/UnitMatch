{
 "cells": [
  {
   "cell_type": "code",
   "execution_count": 6,
   "metadata": {},
   "outputs": [
    {
     "name": "stdout",
     "output_type": "stream",
     "text": [
      "The autoreload extension is already loaded. To reload it, use:\n",
      "  %reload_ext autoreload\n"
     ]
    }
   ],
   "source": [
    "%load_ext autoreload\n",
    "%autoreload \n",
    "import Bayes_fun as bf\n",
    "import utils as util\n",
    "import Overlord\n",
    "import numpy as np\n",
    "import matplotlib.pyplot as plt"
   ]
  },
  {
   "cell_type": "code",
   "execution_count": null,
   "metadata": {},
   "outputs": [],
   "source": [
    "#get default parameters, can add your own before or after!\n",
    "param = util.get_default_param()\n",
    "\n",
    "#Give the paths to the KS directories for each session\n",
    "#If you dint have a dir with channel_positions.npy etc look at the detailed example for supplting paths seperatley \n",
    "KSdirs = [r'path/to/KSdir/Session1', r'Path/to/KSdir/Session2']\n",
    "WavePaths, UnitLabelPaths, ChannelPos = util.paths_fromKS(KSdirs)"
   ]
  },
  {
   "cell_type": "code",
   "execution_count": 5,
   "metadata": {},
   "outputs": [
    {
     "name": "stderr",
     "output_type": "stream",
     "text": [
      "c:\\Users\\Experiment\\Documents\\temp\\UnitMatch\\UMPy\\Metrics_fun.py:219: RuntimeWarning: invalid value encountered in divide\n",
      "  ang = np.abs( x1[dimid1,:,:,:,:] - x2[dimid1,:,:,:,:]) / np.abs(x1[dimid2,:,:,:,:] - x2[dimid2,:,:,:,:])\n"
     ]
    },
    {
     "name": "stdout",
     "output_type": "stream",
     "text": [
      "Done drift correction per shank for session pair 1 and 2\n",
      "Session pair 2/3 has [31  9 28 33] matches per shank, which is below threshold to do per shank drift correction\n"
     ]
    }
   ],
   "source": [
    "\n",
    "#read in data and select the good units and exact metadata\n",
    "waveform, SessionID, SessionSwitch, WithinSession, GoodUnits, param = util.load_good_waveforms(WavePaths, UnitLabelPaths, param) # 1-step version of above\n",
    "\n",
    "# create clusInfo, contains all unit id/session related info\n",
    "ClusInfo = {'GoodUnits' : GoodUnits, 'SessionSwitch' : SessionSwitch, 'SessionID' : SessionID, \n",
    "            'OriginalID' : np.concatenate(GoodUnits) }\n",
    "\n",
    "#Extract parameters from waveform\n",
    "ExtractedWaveProperties = Overlord.extract_parameters(waveform, ChannelPos, ClusInfo, param)\n",
    "\n",
    "#Extract metric scores\n",
    "TotalScore, CandidatePairs, Scores2Include, Predictors  = Overlord.extract_metric_scores(ExtractedWaveProperties, SessionSwitch, WithinSession, param, niter  = 2)\n",
    "\n",
    "#Probability analysis\n",
    "priorMatch = 1 - (param['nExpectedMatches'] / param['nUnits']**2 ) # fredom of choid in prior prob?\n",
    "Priors = np.array((priorMatch, 1-priorMatch))\n",
    "\n",
    "labels = CandidatePairs.astype(int)\n",
    "Cond = np.unique(labels)\n",
    "ScoreVector = param['ScoreVector']\n",
    "ParameterKernels = np.full((len(ScoreVector), len(Scores2Include), len(Cond)), np.nan)\n",
    "\n",
    "ParameterKernels = bf.get_ParameterKernels(Scores2Include, labels, Cond, param, addone = 1)\n",
    "\n",
    "Probability = bf.apply_naive_bayes(ParameterKernels, Priors, Predictors, param, Cond)\n",
    "\n",
    "Output = Probability[:,1].reshape(param['nUnits'],param['nUnits'])"
   ]
  },
  {
   "cell_type": "code",
   "execution_count": 5,
   "metadata": {},
   "outputs": [
    {
     "name": "stdout",
     "output_type": "stream",
     "text": [
      "The percentage of units matched to themselves is: 95.57739557739558%\n",
      "The percentage of false -ve's then is: 4.422604422604422% \n",
      "\n",
      "The rate of miss-match(es) per expected match 0.09950859950859951\n",
      "The percentage of false +ve's is 0.027270602290730594% for session 1\n",
      "The percentage of false +ve's is 0.03442103813851025% for session 2\n",
      "The percentage of false +ve's is 0.04965243296921549% for session 3\n",
      "\n",
      "This assumes that the spike sorter has made no mistakes\n"
     ]
    },
    {
     "data": {
      "text/plain": [
       "<matplotlib.image.AxesImage at 0x23ddebae550>"
      ]
     },
     "execution_count": 5,
     "metadata": {},
     "output_type": "execute_result"
    },
    {
     "data": {
      "image/png": "[encoded data removed]",
      "text/plain": [
       "<Figure size 640x480 with 1 Axes>"
      ]
     },
     "metadata": {},
     "output_type": "display_data"
    }
   ],
   "source": [
    "util.evaluate_output(Output, param, WithinSession, SessionSwitch, MatchThreshold = 0.75)\n",
    "\n",
    "MatchThreshold = 0.5\n",
    "OutputThreshold = np.zeros_like(Output)\n",
    "OutputThreshold[Output > MatchThreshold] = 1\n",
    "\n",
    "plt.imshow(OutputThreshold)\n"
   ]
  },
  {
   "cell_type": "code",
   "execution_count": 6,
   "metadata": {},
   "outputs": [],
   "source": [
    "from GUI import *"
   ]
  },
  {
   "cell_type": "code",
   "execution_count": 7,
   "metadata": {},
   "outputs": [],
   "source": [
    "Amplitude = ExtractedWaveProperties['Amplitude']\n",
    "SpatialDecay = ExtractedWaveProperties['SpatialDecay']\n",
    "AvgCentroid = ExtractedWaveProperties['AvgCentroid']\n",
    "AvgWaveform = ExtractedWaveProperties['AvgWaveform']\n",
    "AvgWaveformPerTP = ExtractedWaveProperties['AvgWaveformPerTP']\n",
    "WaveIdx = ExtractedWaveProperties['WaveIdx']\n",
    "MaxSite = ExtractedWaveProperties['MaxSite']\n",
    "MaxSiteMean = ExtractedWaveProperties['MaxSiteMean']\n",
    "process_info_for_GUI(Output, MatchThreshold, Scores2Include, TotalScore, Amplitude, SpatialDecay,\n",
    "                         AvgCentroid, AvgWaveform, AvgWaveformPerTP, WaveIdx, MaxSite, MaxSiteMean, \n",
    "                         waveform, WithinSession, ChannelPos, ClusInfo, param)\n"
   ]
  },
  {
   "cell_type": "code",
   "execution_count": 8,
   "metadata": {},
   "outputs": [],
   "source": [
    "IsMatch, NotMatch = run_GUI()"
   ]
  },
  {
   "cell_type": "code",
   "execution_count": null,
   "metadata": {},
   "outputs": [],
   "source": []
  }
 ],
 "metadata": {
  "kernelspec": {
   "display_name": "Python 3 (ipykernel)",
   "language": "python",
   "name": "python3"
  },
  "language_info": {
   "codemirror_mode": {
    "name": "ipython",
    "version": 3
   },
   "file_extension": ".py",
   "mimetype": "text/x-python",
   "name": "python",
   "nbconvert_exporter": "python",
   "pygments_lexer": "ipython3",
   "version": "3.11.4"
  }
 },
 "nbformat": 4,
 "nbformat_minor": 2
}
