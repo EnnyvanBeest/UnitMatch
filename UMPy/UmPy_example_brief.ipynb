{
 "cells": [
  {
   "cell_type": "code",
   "execution_count": 4,
   "metadata": {},
   "outputs": [
    {
     "name": "stdout",
     "output_type": "stream",
     "text": [
      "The autoreload extension is already loaded. To reload it, use:\n",
      "  %reload_ext autoreload\n"
     ]
    }
   ],
   "source": [
    "%load_ext autoreload\n",
    "%autoreload \n",
    "import Bayes_fun as bf\n",
    "import utils as util\n",
    "import Overlord\n",
    "import numpy as np\n",
    "import matplotlib.pyplot as plt"
   ]
  },
  {
   "cell_type": "code",
   "execution_count": 5,
   "metadata": {},
   "outputs": [],
   "source": [
    "#get default parameters, can add your own before or after!\n",
    "param = util.get_default_param()\n",
    "\n",
    "\n",
    "# Load in the data\n",
    "\n",
    "#The channel position i.e location of active channels is assumed to be the same for all recording sessions\n",
    "ChannelPos1 = np.load(r'Data\\Mouse1\\AL032\\2019-11-21\\Probe0\\1\\channel_positions.npy')\n",
    "#This makes position 3-D by inserting an axis of all one's in the first axis, to allow easy extension to 3-D coords\n",
    "ChannelPos1 = np.insert(ChannelPos1,0, np.ones(ChannelPos1.shape[0]), axis =1)\n",
    "\n",
    "ChannelPos = [ChannelPos1, ChannelPos1] # Want it per session, however usually will be the same\n",
    "\n",
    "#path to the average waveforms for each session\n",
    "WavePath1 = r'Data\\Mouse1\\AL032\\2019-11-21\\Probe0\\1\\RawWaveforms'\n",
    "WavePath2 = r'Data\\Mouse1\\AL032\\2019-11-22\\Probe0\\1\\RawWaveforms'\n",
    "WavePath3 = r'Data\\Mouse1\\AL032\\2019-12-03\\RawWaveforms'\n",
    "\n",
    "#path to a tsv file, where the second column contains 'good' for all units you want to include\n",
    "UnitLabelPath1 = r'Data\\Mouse1\\AL032\\2019-11-21\\Probe0\\1\\cluster_group.tsv'\n",
    "UnitLabelPath2 = r'Data\\Mouse1\\AL032\\2019-11-22\\Probe0\\1\\cluster_group.tsv'\n",
    "UnitLabelPath3 = r'Data\\Mouse1\\AL032\\2019-12-03\\cluster_group.tsv'\n",
    "\n",
    "#make paths into a list\n",
    "WavePaths = [WavePath1 , WavePath2]\n",
    "UnitLabelPaths = [UnitLabelPath1, UnitLabelPath2]\n",
    "\n",
    "# Un-comment below if wanting to use 3 sessions \n",
    "# WavePaths = [WavePath1 , WavePath2,WavePath3]\n",
    "# UnitLabelPaths = [UnitLabelPath1, UnitLabelPath2, UnitLabelPath3]\n",
    "# ChannelPos = [ChannelPos1, ChannelPos1, ChannelPos1]\n"
   ]
  },
  {
   "cell_type": "code",
   "execution_count": 6,
   "metadata": {},
   "outputs": [
    {
     "name": "stderr",
     "output_type": "stream",
     "text": [
      "c:\\Users\\Experiment\\Documents\\temp\\UnitMatch\\UMPy\\Metrics_fun.py:219: RuntimeWarning: invalid value encountered in divide\n",
      "  ang = np.abs( x1[dimid1,:,:,:,:] - x2[dimid1,:,:,:,:]) / np.abs(x1[dimid2,:,:,:,:] - x2[dimid2,:,:,:,:])\n"
     ]
    },
    {
     "name": "stdout",
     "output_type": "stream",
     "text": [
      "Done drift correction per shank for session pair 1 and 2\n"
     ]
    }
   ],
   "source": [
    "\n",
    "#read in data and select the good units and exact metadata\n",
    "waveform, SessionID, SessionSwitch, WithinSession, GoodUnits, param = util.load_good_waveforms(WavePaths, UnitLabelPaths, param) # 1-step version of above\n",
    "\n",
    "# create clusInfo, contains all unit id/session related info\n",
    "ClusInfo = {'GoodUnits' : GoodUnits, 'SessionSwitch' : SessionSwitch, 'SessionID' : SessionID, \n",
    "            'OriginalID' : np.concatenate(GoodUnits) }\n",
    "\n",
    "#Extract parameters from waveform\n",
    "ExtractedWaveProperties = Overlord.extract_parameters(waveform, ChannelPos, ClusInfo, param)\n",
    "\n",
    "#Extract metric scores\n",
    "TotalScore, CandidatePairs, Scores2Include, Predictors  = Overlord.extract_metric_scores(ExtractedWaveProperties, SessionSwitch, WithinSession, param, niter  = 2)\n",
    "\n",
    "#Probability analysis\n",
    "priorMatch = 1 - (param['nExpectedMatches'] / param['nUnits']**2 ) # fredom of choid in prior prob?\n",
    "Priors = np.array((priorMatch, 1-priorMatch))\n",
    "\n",
    "labels = CandidatePairs.astype(int)\n",
    "Cond = np.unique(labels)\n",
    "ScoreVector = param['ScoreVector']\n",
    "ParameterKernels = np.full((len(ScoreVector), len(Scores2Include), len(Cond)), np.nan)\n",
    "\n",
    "ParameterKernels = bf.get_ParameterKernels(Scores2Include, labels, Cond, param, addone = 1)\n",
    "\n",
    "Probability = bf.apply_naive_bayes(ParameterKernels, Priors, Predictors, param, Cond)\n",
    "\n",
    "Output = Probability[:,1].reshape(param['nUnits'],param['nUnits'])"
   ]
  },
  {
   "cell_type": "code",
   "execution_count": 7,
   "metadata": {},
   "outputs": [
    {
     "name": "stdout",
     "output_type": "stream",
     "text": [
      "The percentage of units matched to themselves is: 95.07299270072993%\n",
      "The percentage of false -ve's then is: 4.927007299270073% \n",
      "\n",
      "The rate of miss-match(es) per expected match 0.09124087591240876\n",
      "The percentage of false +ve's is 0.03376360283614264% for session 1\n",
      "The percentage of false +ve's is 0.033044196612969846% for session 2\n",
      "\n",
      "This assumes that the spike sorter has made no mistakes\n"
     ]
    },
    {
     "data": {
      "text/plain": [
       "<matplotlib.image.AxesImage at 0x29834003b90>"
      ]
     },
     "execution_count": 7,
     "metadata": {},
     "output_type": "execute_result"
    },
    {
     "data": {
      "image/png": "[encoded data removed]",
      "text/plain": [
       "<Figure size 640x480 with 1 Axes>"
      ]
     },
     "metadata": {},
     "output_type": "display_data"
    }
   ],
   "source": [
    "util.evaluate_output(Output, param, WithinSession, SessionSwitch, MatchThreshold = 0.75)\n",
    "\n",
    "match_threshold = 0.5\n",
    "OutputThreshold = np.zeros_like(Output)\n",
    "OutputThreshold[Output > match_threshold] = 1\n",
    "\n",
    "plt.imshow(OutputThreshold)\n"
   ]
  }
 ],
 "metadata": {
  "kernelspec": {
   "display_name": "Python 3 (ipykernel)",
   "language": "python",
   "name": "python3"
  },
  "language_info": {
   "codemirror_mode": {
    "name": "ipython",
    "version": 3
   },
   "file_extension": ".py",
   "mimetype": "text/x-python",
   "name": "python",
   "nbconvert_exporter": "python",
   "pygments_lexer": "ipython3",
   "version": "3.11.4"
  }
 },
 "nbformat": 4,
 "nbformat_minor": 2
}
