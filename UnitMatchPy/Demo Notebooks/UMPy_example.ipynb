{
 "cells": [
  {
   "cell_type": "markdown",
   "metadata": {},
   "source": [
    "# This demo notebook, is a guide on the simplest way to run Unit Match in python"
   ]
  },
  {
   "cell_type": "code",
   "execution_count": 1,
   "metadata": {},
   "outputs": [],
   "source": [
    "%load_ext autoreload\n",
    "%autoreload \n",
    "\n",
    "import UnitMatchPy.bayes_functions as bf\n",
    "import UnitMatchPy.utils as util\n",
    "import UnitMatchPy.overlord as ov\n",
    "import numpy as np\n",
    "import matplotlib.pyplot as plt\n",
    "import UnitMatchPy.save_utils as su\n",
    "import UnitMatchPy.GUI as gui\n",
    "import UnitMatchPy.assign_unique_id as aid\n",
    "import UnitMatchPy.default_params as default_params"
   ]
  },
  {
   "cell_type": "markdown",
   "metadata": {},
   "source": [
    "#### Set params and give path to input data (typically a KiloSort directory with the extract RawWaveform folder)"
   ]
  },
  {
   "cell_type": "code",
   "execution_count": 2,
   "metadata": {},
   "outputs": [
    {
     "name": "stdout",
     "output_type": "stream",
     "text": [
      "Using cluster_group.tsv\n",
      "Using cluster_group.tsv\n"
     ]
    }
   ],
   "source": [
    "# Get default parameters, can add your own before or after!\n",
    "param = default_params.get_default_param()\n",
    "\n",
    "# Give the paths to the KS directories for each session\n",
    "# If you don't have a dir with channel_positions.npy etc look at the detailed example for supplying paths separately \n",
    "KS_dirs = [r'path/to/KSdir/Session1', r'Path/to/KSdir/Session2']\n",
    "\n",
    "param['KS_dirs'] = KS_dirs\n",
    "wave_paths, unit_label_paths, channel_pos = util.paths_from_KS(KS_dirs)"
   ]
  },
  {
   "cell_type": "markdown",
   "metadata": {},
   "source": [
    "#### Run the UnitMatch process\n",
    "1. Extract parameters from the waveforms e.g Amplitudes, weighted average waveforms and Spatial Decay lengths\n",
    "2. Calculate metrics/scores for matching e.g Amplitude Score and Waveform similarity\n",
    "3. Using putative matches find a estimate of drift correction between session (can be done per shank for 2.0 probes)\n",
    "4. Re-Calculate metrics/scores with the drift corrected metrics\n",
    "5. Use a naive Bayes classifier to get suggested 'matches' and 'non'matches'\n",
    "6. (Optional) run the GUI to curated the suggest matches and investigated the UnitMatch results"
   ]
  },
  {
   "cell_type": "code",
   "execution_count": 12,
   "metadata": {},
   "outputs": [
    {
     "name": "stderr",
     "output_type": "stream",
     "text": [
      "c:\\Users\\Experiment\\anaconda3\\envs\\UnitMatch\\Lib\\site-packages\\UnitMatchPy\\metric_functions.py:326: RuntimeWarning: invalid value encountered in divide\n",
      "  ang = np.abs( x1[dim_id1,:,:,:,:] - x2[dim_id1,:,:,:,:]) / np.abs(x1[dim_id2,:,:,:,:] - x2[dim_id2,:,:,:,:])\n"
     ]
    },
    {
     "name": "stdout",
     "output_type": "stream",
     "text": [
      "Done drift correction per shank for session pair 1 and 2\n",
      "Calculating the probability distributions of the metric scores\n",
      "Calculating the match probabilities\n"
     ]
    }
   ],
   "source": [
    "# STEP 0 -- data preparation\n",
    "# Read in data and select the good units and exact metadata\n",
    "waveform, session_id, session_switch, within_session, good_units, param = util.load_good_waveforms(wave_paths, unit_label_paths, param, good_units_only = True) \n",
    "\n",
    "# param['peak_loc'] = #may need to set as a value if the peak location is NOT ~ half the spike width\n",
    "\n",
    "# Create clus_info, contains all unit id/session related info\n",
    "clus_info = {'good_units' : good_units, 'session_switch' : session_switch, 'session_id' : session_id, \n",
    "            'original_ids' : np.concatenate(good_units) }\n",
    "\n",
    "# STEP 1\n",
    "# Extract parameters from waveform\n",
    "extracted_wave_properties = ov.extract_parameters(waveform, channel_pos, clus_info, param)\n",
    "\n",
    "# STEP 2, 3, 4\n",
    "# Extract metric scores\n",
    "total_score, candidate_pairs, scores_to_include, predictors  = ov.extract_metric_scores(extracted_wave_properties, session_switch, within_session, param, niter  = 2)\n",
    "\n",
    "# STEP 5\n",
    "# Probability analysis\n",
    "# Get prior probability of being a match\n",
    "prior_match = 1 - (param['n_expected_matches'] / param['n_units']**2 ) # freedom of choose in prior prob\n",
    "priors = np.array((prior_match, 1-prior_match))\n",
    "\n",
    "# Construct distributions (kernels) for Naive Bayes Classifier\n",
    "labels = candidate_pairs.astype(int)\n",
    "cond = np.unique(labels)\n",
    "score_vector = param['score_vector']\n",
    "parameter_kernels = np.full((len(score_vector), len(scores_to_include), len(cond)), np.nan)\n",
    "\n",
    "parameter_kernels = bf.get_parameter_kernels(scores_to_include, labels, cond, param, add_one = 1)\n",
    "\n",
    "# Get probability of each pair of being a match\n",
    "probability = bf.apply_naive_bayes(parameter_kernels, priors, predictors, param, cond)\n",
    "\n",
    "output_prob_matrix = probability[:,1].reshape(param['n_units'],param['n_units'])"
   ]
  },
  {
   "cell_type": "code",
   "execution_count": 4,
   "metadata": {},
   "outputs": [
    {
     "name": "stdout",
     "output_type": "stream",
     "text": [
      "The percentage of units matched to themselves is: 90.69343065693431%\n",
      "The percentage of false -ve's then is: 9.30656934306569% \n",
      "\n",
      "The rate of miss-match(es) per expected match 0.10583941605839416\n",
      "The percentage of false +ve's is 0.02986780250889541% for session 1\n",
      "The percentage of false +ve's is 0.04818945339391436% for session 2\n",
      "\n",
      "This assumes that the spike sorter has made no mistakes\n"
     ]
    },
    {
     "data": {
      "text/plain": [
       "<matplotlib.image.AxesImage at 0x18843adf770>"
      ]
     },
     "execution_count": 4,
     "metadata": {},
     "output_type": "execute_result"
    },
    {
     "data": {
      "image/png": "[encoded data removed]",
      "text/plain": [
       "<Figure size 640x480 with 1 Axes>"
      ]
     },
     "metadata": {},
     "output_type": "display_data"
    }
   ],
   "source": [
    "util.evaluate_output(output_prob_matrix, param, within_session, session_switch, match_threshold = 0.75)\n",
    "\n",
    "match_threshold = param['match_threshold']\n",
    "# match_threshold = try different values here!\n",
    "\n",
    "output_threshold = np.zeros_like(output_prob_matrix)\n",
    "output_threshold[output_prob_matrix > match_threshold] = 1\n",
    "\n",
    "plt.imshow(output_threshold, cmap = 'Greys')\n"
   ]
  },
  {
   "cell_type": "code",
   "execution_count": 8,
   "metadata": {},
   "outputs": [],
   "source": [
    "# STEP 6\n",
    "# Format data for GUI\n",
    "amplitude = extracted_wave_properties['amplitude']\n",
    "spatial_decay = extracted_wave_properties['spatial_decay']\n",
    "avg_centroid = extracted_wave_properties['avg_centroid']\n",
    "avg_waveform = extracted_wave_properties['avg_waveform']\n",
    "avg_waveform_per_tp = extracted_wave_properties['avg_waveform_per_tp']\n",
    "wave_idx = extracted_wave_properties['good_wave_idxs']\n",
    "max_site = extracted_wave_properties['max_site']\n",
    "max_site_mean = extracted_wave_properties['max_site_mean']\n",
    "gui.process_info_for_GUI(output_prob_matrix, match_threshold, scores_to_include, total_score, amplitude, spatial_decay,\n",
    "                         avg_centroid, avg_waveform, avg_waveform_per_tp, wave_idx, max_site, max_site_mean, \n",
    "                         waveform, within_session, channel_pos, clus_info, param)\n"
   ]
  },
  {
   "cell_type": "code",
   "execution_count": 9,
   "metadata": {},
   "outputs": [
    {
     "name": "stderr",
     "output_type": "stream",
     "text": [
      "c:\\Users\\Experiment\\anaconda3\\envs\\UnitMatch\\Lib\\site-packages\\UnitMatchPy\\GUI.py:1267: SyntaxWarning: invalid escape sequence '\\m'\n",
      "  main_ax.set_xlabel('Xpos ($\\mu$m)', size = 14)\n",
      "c:\\Users\\Experiment\\anaconda3\\envs\\UnitMatch\\Lib\\site-packages\\UnitMatchPy\\GUI.py:1268: SyntaxWarning: invalid escape sequence '\\m'\n",
      "  main_ax.set_ylabel('Ypos ($\\mu$m)', size = 14)\n"
     ]
    },
    {
     "ename": "KeyError",
     "evalue": "'original_id'",
     "output_type": "error",
     "traceback": [
      "\u001b[1;31m---------------------------------------------------------------------------\u001b[0m",
      "\u001b[1;31mKeyError\u001b[0m                                  Traceback (most recent call last)",
      "Cell \u001b[1;32mIn[9], line 1\u001b[0m\n\u001b[1;32m----> 1\u001b[0m is_match, not_match, matches_GUI \u001b[38;5;241m=\u001b[39m \u001b[43mgui\u001b[49m\u001b[38;5;241;43m.\u001b[39;49m\u001b[43mrun_GUI\u001b[49m\u001b[43m(\u001b[49m\u001b[43m)\u001b[49m\n",
      "File \u001b[1;32mc:\\Users\\Experiment\\anaconda3\\envs\\UnitMatch\\Lib\\site-packages\\UnitMatchPy\\GUI.py:222\u001b[0m, in \u001b[0;36mrun_GUI\u001b[1;34m()\u001b[0m\n\u001b[0;32m    218\u001b[0m toggle_UM_score_plot\u001b[38;5;241m.\u001b[39mgrid(row \u001b[38;5;241m=\u001b[39m \u001b[38;5;241m4\u001b[39m, column \u001b[38;5;241m=\u001b[39m \u001b[38;5;241m5\u001b[39m, sticky \u001b[38;5;241m=\u001b[39m \u001b[38;5;124m'\u001b[39m\u001b[38;5;124mW\u001b[39m\u001b[38;5;124m'\u001b[39m,  padx \u001b[38;5;241m=\u001b[39m \u001b[38;5;241m50\u001b[39m, pady \u001b[38;5;241m=\u001b[39m \u001b[38;5;241m5\u001b[39m)\n\u001b[0;32m    219\u001b[0m toggle_raw_plot\u001b[38;5;241m.\u001b[39mgrid(row \u001b[38;5;241m=\u001b[39m \u001b[38;5;241m4\u001b[39m, column \u001b[38;5;241m=\u001b[39m \u001b[38;5;241m6\u001b[39m, sticky \u001b[38;5;241m=\u001b[39m \u001b[38;5;124m'\u001b[39m\u001b[38;5;124mE\u001b[39m\u001b[38;5;124m'\u001b[39m,  padx \u001b[38;5;241m=\u001b[39m \u001b[38;5;241m50\u001b[39m, pady \u001b[38;5;241m=\u001b[39m \u001b[38;5;241m5\u001b[39m)\n\u001b[1;32m--> 222\u001b[0m \u001b[43mupdate\u001b[49m\u001b[43m(\u001b[49m\u001b[38;5;28;43;01mNone\u001b[39;49;00m\u001b[43m)\u001b[49m\n\u001b[0;32m    223\u001b[0m match_idx \u001b[38;5;241m=\u001b[39m \u001b[38;5;241m0\u001b[39m\n\u001b[0;32m    225\u001b[0m root\u001b[38;5;241m.\u001b[39mmainloop()\n",
      "File \u001b[1;32mc:\\Users\\Experiment\\anaconda3\\envs\\UnitMatch\\Lib\\site-packages\\UnitMatchPy\\GUI.py:384\u001b[0m, in \u001b[0;36mupdate\u001b[1;34m(event)\u001b[0m\n\u001b[0;32m    381\u001b[0m         raw_waveform_plot\u001b[38;5;241m.\u001b[39mdestroy()\n\u001b[0;32m    383\u001b[0m add_probability_label(unit_a, unit_b, CV_option)\n\u001b[1;32m--> 384\u001b[0m \u001b[43madd_original_ID\u001b[49m\u001b[43m(\u001b[49m\u001b[43munit_a\u001b[49m\u001b[43m,\u001b[49m\u001b[43m \u001b[49m\u001b[43munit_b\u001b[49m\u001b[43m)\u001b[49m\n\u001b[0;32m    386\u001b[0m \u001b[38;5;28;01mif\u001b[39;00m toggle_UM_score_val\u001b[38;5;241m.\u001b[39mget() \u001b[38;5;129;01mis\u001b[39;00m \u001b[38;5;28;01mFalse\u001b[39;00m:\n\u001b[0;32m    387\u001b[0m     \u001b[38;5;66;03m#plot histograms based of off the CV\u001b[39;00m\n\u001b[0;32m    388\u001b[0m     \u001b[38;5;28;01mif\u001b[39;00m CV_option \u001b[38;5;241m==\u001b[39m \u001b[38;5;241m-\u001b[39m\u001b[38;5;241m1\u001b[39m:\n",
      "File \u001b[1;32mc:\\Users\\Experiment\\anaconda3\\envs\\UnitMatch\\Lib\\site-packages\\UnitMatchPy\\GUI.py:912\u001b[0m, in \u001b[0;36madd_original_ID\u001b[1;34m(UnitA, UnitB)\u001b[0m\n\u001b[0;32m    909\u001b[0m \u001b[38;5;28;01mif\u001b[39;00m original_id_label\u001b[38;5;241m.\u001b[39mwinfo_exists():\n\u001b[0;32m    910\u001b[0m     original_id_label\u001b[38;5;241m.\u001b[39mdestroy()\n\u001b[1;32m--> 912\u001b[0m original_id_label \u001b[38;5;241m=\u001b[39m ttk\u001b[38;5;241m.\u001b[39mLabel(root, text \u001b[38;5;241m=\u001b[39m \u001b[38;5;124mf\u001b[39m\u001b[38;5;124m'\u001b[39m\u001b[38;5;124mThe Original Unit IDs are:\u001b[39m\u001b[38;5;130;01m\\n\u001b[39;00m\u001b[38;5;124mUnit A: \u001b[39m\u001b[38;5;132;01m{\u001b[39;00m\u001b[38;5;28mint\u001b[39m(\u001b[43mclus_info\u001b[49m\u001b[43m[\u001b[49m\u001b[38;5;124;43m\"\u001b[39;49m\u001b[38;5;124;43moriginal_id\u001b[39;49m\u001b[38;5;124;43m\"\u001b[39;49m\u001b[43m]\u001b[49m[UnitA]\u001b[38;5;241m.\u001b[39msqueeze())\u001b[38;5;132;01m}\u001b[39;00m\u001b[38;5;124m   Unit B: \u001b[39m\u001b[38;5;132;01m{\u001b[39;00m\u001b[38;5;28mint\u001b[39m(clus_info[\u001b[38;5;124m\"\u001b[39m\u001b[38;5;124moriginal_id\u001b[39m\u001b[38;5;124m\"\u001b[39m][UnitB]\u001b[38;5;241m.\u001b[39msqueeze())\u001b[38;5;132;01m}\u001b[39;00m\u001b[38;5;124m'\u001b[39m, borderwidth \u001b[38;5;241m=\u001b[39m \u001b[38;5;241m2\u001b[39m , relief\u001b[38;5;241m=\u001b[39m \u001b[38;5;124m'\u001b[39m\u001b[38;5;124mgroove\u001b[39m\u001b[38;5;124m'\u001b[39m)\n\u001b[0;32m    913\u001b[0m original_id_label\u001b[38;5;241m.\u001b[39mgrid( row \u001b[38;5;241m=\u001b[39m \u001b[38;5;241m0\u001b[39m, column \u001b[38;5;241m=\u001b[39m \u001b[38;5;241m2\u001b[39m, ipadx \u001b[38;5;241m=\u001b[39m \u001b[38;5;241m5\u001b[39m, ipady \u001b[38;5;241m=\u001b[39m \u001b[38;5;241m5\u001b[39m)\n",
      "\u001b[1;31mKeyError\u001b[0m: 'original_id'"
     ]
    }
   ],
   "source": [
    "# Run GUI\n",
    "is_match, not_match, matches_GUI = gui.run_GUI()"
   ]
  },
  {
   "cell_type": "code",
   "execution_count": 10,
   "metadata": {},
   "outputs": [
    {
     "ename": "NameError",
     "evalue": "name 'matches_GUI' is not defined",
     "output_type": "error",
     "traceback": [
      "\u001b[1;31m---------------------------------------------------------------------------\u001b[0m",
      "\u001b[1;31mNameError\u001b[0m                                 Traceback (most recent call last)",
      "Cell \u001b[1;32mIn[10], line 3\u001b[0m\n\u001b[0;32m      1\u001b[0m \u001b[38;5;66;03m#this function has 2 mode 'And' 'Or', which returns a matches if they appear in both or one cv pair\u001b[39;00m\n\u001b[0;32m      2\u001b[0m \u001b[38;5;66;03m#then it will add all the matches selected as IsMaatch, then remove all matches in NotMatch\u001b[39;00m\n\u001b[1;32m----> 3\u001b[0m matches_curated \u001b[38;5;241m=\u001b[39m util\u001b[38;5;241m.\u001b[39mcurate_matches(\u001b[43mmatches_GUI\u001b[49m, is_match, not_match, mode \u001b[38;5;241m=\u001b[39m \u001b[38;5;124m'\u001b[39m\u001b[38;5;124mAnd\u001b[39m\u001b[38;5;124m'\u001b[39m)\n",
      "\u001b[1;31mNameError\u001b[0m: name 'matches_GUI' is not defined"
     ]
    }
   ],
   "source": [
    "#this function has 2 mode 'And' 'Or', which returns a matches if they appear in both or one cv pair\n",
    "#then it will add all the matches selected as IsMaatch, then remove all matches in NotMatch\n",
    "matches_curated = util.curate_matches(matches_GUI, is_match, not_match, mode = 'And')"
   ]
  },
  {
   "cell_type": "markdown",
   "metadata": {},
   "source": [
    "### Add path tp save directory here"
   ]
  },
  {
   "cell_type": "code",
   "execution_count": 15,
   "metadata": {},
   "outputs": [
    {
     "ename": "KeyError",
     "evalue": "'original_id'",
     "output_type": "error",
     "traceback": [
      "\u001b[1;31m---------------------------------------------------------------------------\u001b[0m",
      "\u001b[1;31mKeyError\u001b[0m                                  Traceback (most recent call last)",
      "Cell \u001b[1;32mIn[15], line 2\u001b[0m\n\u001b[0;32m      1\u001b[0m matches \u001b[38;5;241m=\u001b[39m np\u001b[38;5;241m.\u001b[39margwhere(match_threshold \u001b[38;5;241m==\u001b[39m \u001b[38;5;241m1\u001b[39m)\n\u001b[1;32m----> 2\u001b[0m UIDs \u001b[38;5;241m=\u001b[39m \u001b[43maid\u001b[49m\u001b[38;5;241;43m.\u001b[39;49m\u001b[43massign_unique_id\u001b[49m\u001b[43m(\u001b[49m\u001b[43moutput_prob_matrix\u001b[49m\u001b[43m,\u001b[49m\u001b[43m \u001b[49m\u001b[43mparam\u001b[49m\u001b[43m,\u001b[49m\u001b[43m \u001b[49m\u001b[43mclus_info\u001b[49m\u001b[43m)\u001b[49m\n\u001b[0;32m      4\u001b[0m save_dir \u001b[38;5;241m=\u001b[39m \u001b[38;5;124mr\u001b[39m\u001b[38;5;124m'\u001b[39m\u001b[38;5;124mPath/to/save/directory\u001b[39m\u001b[38;5;124m'\u001b[39m\n\u001b[0;32m      5\u001b[0m \u001b[38;5;66;03m#NOTE - change to matches to matches_curated if done manual curation with the GUI\u001b[39;00m\n",
      "File \u001b[1;32mc:\\Users\\Experiment\\anaconda3\\envs\\UnitMatch\\Lib\\site-packages\\UnitMatchPy\\assign_unique_id.py:45\u001b[0m, in \u001b[0;36massign_unique_id\u001b[1;34m(output_prob_array, param, clus_info)\u001b[0m\n\u001b[0;32m     23\u001b[0m \u001b[38;5;28;01mdef\u001b[39;00m \u001b[38;5;21massign_unique_id\u001b[39m(output_prob_array, param, clus_info):\n\u001b[0;32m     24\u001b[0m \u001b[38;5;250m    \u001b[39m\u001b[38;5;124;03m\"\"\"\u001b[39;00m\n\u001b[0;32m     25\u001b[0m \u001b[38;5;124;03m    Assign units to a common group depending on different criteria:\u001b[39;00m\n\u001b[0;32m     26\u001b[0m \u001b[38;5;124;03m    Conservative - adds units which match with EVERY unit in the proposed group\u001b[39;00m\n\u001b[1;32m   (...)\u001b[0m\n\u001b[0;32m     43\u001b[0m \u001b[38;5;124;03m        A list of arrays which gives each unit its group ID for each case\u001b[39;00m\n\u001b[0;32m     44\u001b[0m \u001b[38;5;124;03m    \"\"\"\u001b[39;00m\n\u001b[1;32m---> 45\u001b[0m     all_cluster_ids \u001b[38;5;241m=\u001b[39m \u001b[43mclus_info\u001b[49m\u001b[43m[\u001b[49m\u001b[38;5;124;43m'\u001b[39;49m\u001b[38;5;124;43moriginal_id\u001b[39;49m\u001b[38;5;124;43m'\u001b[39;49m\u001b[43m]\u001b[49m \u001b[38;5;66;03m# each units has unique ID\u001b[39;00m\n\u001b[0;32m     47\u001b[0m     \u001b[38;5;66;03m#create arrays for the unique ids\u001b[39;00m\n\u001b[0;32m     48\u001b[0m     unique_id_liberal \u001b[38;5;241m=\u001b[39m np\u001b[38;5;241m.\u001b[39marange(all_cluster_ids\u001b[38;5;241m.\u001b[39mshape[\u001b[38;5;241m0\u001b[39m])\n",
      "\u001b[1;31mKeyError\u001b[0m: 'original_id'"
     ]
    }
   ],
   "source": [
    "matches = np.argwhere(match_threshold == 1)\n",
    "UIDs = aid.assign_unique_id(output_prob_matrix, param, clus_info)\n",
    "\n",
    "save_dir = r'Path/to/save/directory'\n",
    "#NOTE - change to matches to matches_curated if done manual curation with the GUI\n",
    "su.save_to_output(save_dir, scores_to_include, matches # matches_curated\n",
    "                  , output_prob_matrix, avg_centroid, avg_waveform, avg_waveform_per_tp, max_site,\n",
    "                   total_score, output_threshold, clus_info, param, UIDs = UIDs, matches_curated = None, save_match_table = True)"
   ]
  },
  {
   "cell_type": "code",
   "execution_count": null,
   "metadata": {},
   "outputs": [],
   "source": []
  },
  {
   "cell_type": "code",
   "execution_count": null,
   "metadata": {},
   "outputs": [],
   "source": []
  }
 ],
 "metadata": {
  "kernelspec": {
   "display_name": "UnitMatch",
   "language": "python",
   "name": "python3"
  },
  "language_info": {
   "codemirror_mode": {
    "name": "ipython",
    "version": 3
   },
   "file_extension": ".py",
   "mimetype": "text/x-python",
   "name": "python",
   "nbconvert_exporter": "python",
   "pygments_lexer": "ipython3",
   "version": "3.12.7"
  }
 },
 "nbformat": 4,
 "nbformat_minor": 2
}
