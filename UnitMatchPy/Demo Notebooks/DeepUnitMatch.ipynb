{
 "cells": [
  {
   "cell_type": "code",
   "execution_count": 13,
   "id": "f4c9b73c",
   "metadata": {},
   "outputs": [
    {
     "name": "stdout",
     "output_type": "stream",
     "text": [
      "['c:\\\\Users\\\\suyas\\\\UMorig\\\\UnitMatch', 'c:\\\\Users\\\\suyas\\\\UMorig\\\\UnitMatch\\\\UnitMatchPy', 'c:\\\\Users\\\\suyas\\\\UMorig\\\\UnitMatch', 'c:\\\\Users\\\\suyas\\\\UMorig\\\\UnitMatch\\\\UnitMatchPy', 'c:\\\\Users\\\\suyas\\\\UMorig\\\\UnitMatch', 'c:\\\\Users\\\\suyas\\\\UMorig\\\\UnitMatch\\\\UnitMatchPy', 'c:\\\\Users\\\\suyas\\\\UMorig\\\\UnitMatch', 'c:\\\\Users\\\\suyas\\\\UMorig\\\\UnitMatch\\\\UnitMatchPy', 'c:\\\\Users\\\\suyas\\\\UMorig\\\\UnitMatch\\\\UnitMatchPy\\\\DeepUnitMatch', 'c:\\\\Users\\\\suyas\\\\UMorig\\\\UnitMatch\\\\UnitMatchPy', 'c:\\\\Users\\\\suyas\\\\UMorig\\\\UnitMatch', 'c:\\\\Users\\\\suyas\\\\UMorig\\\\UnitMatch\\\\UnitMatchPy', 'c:\\\\Users\\\\suyas\\\\AppData\\\\Local\\\\anaconda3\\\\envs\\\\unitmatch\\\\python311.zip', 'c:\\\\Users\\\\suyas\\\\AppData\\\\Local\\\\anaconda3\\\\envs\\\\unitmatch\\\\DLLs', 'c:\\\\Users\\\\suyas\\\\AppData\\\\Local\\\\anaconda3\\\\envs\\\\unitmatch\\\\Lib', 'c:\\\\Users\\\\suyas\\\\AppData\\\\Local\\\\anaconda3\\\\envs\\\\unitmatch', '', 'c:\\\\Users\\\\suyas\\\\AppData\\\\Local\\\\anaconda3\\\\envs\\\\unitmatch\\\\Lib\\\\site-packages', 'c:\\\\Users\\\\suyas\\\\AppData\\\\Local\\\\anaconda3\\\\envs\\\\unitmatch\\\\Lib\\\\site-packages\\\\win32', 'c:\\\\Users\\\\suyas\\\\AppData\\\\Local\\\\anaconda3\\\\envs\\\\unitmatch\\\\Lib\\\\site-packages\\\\win32\\\\lib', 'c:\\\\Users\\\\suyas\\\\AppData\\\\Local\\\\anaconda3\\\\envs\\\\unitmatch\\\\Lib\\\\site-packages\\\\Pythonwin']\n"
     ]
    }
   ],
   "source": [
    "import UnitMatchPy.default_params as default_params\n",
    "import UnitMatchPy.utils as util\n",
    "import os, sys\n",
    "sys.path.insert(0, os.path.dirname(os.getcwd()))\n",
    "sys.path.insert(0, os.path.dirname(os.path.dirname(os.getcwd())))\n",
    "print(sys.path)\n",
    "from DeepUnitMatch.utils import param_fun"
   ]
  },
  {
   "cell_type": "code",
   "execution_count": 14,
   "id": "2c84def5",
   "metadata": {},
   "outputs": [
    {
     "name": "stdout",
     "output_type": "stream",
     "text": [
      "Using BombCell: cluster_bc_unitType\n",
      "Using BombCell: cluster_bc_unitType\n"
     ]
    }
   ],
   "source": [
    "# Getting the data the same way as UnitMatch\n",
    "\n",
    "# Get default parameters, can add your own before or after!\n",
    "param = default_params.get_default_param()\n",
    "\n",
    "# Give the paths to the KS directories for each session\n",
    "# If you don't have a dir with channel_positions.npy etc look at the detailed example for supplying paths separately \n",
    "KS_dirs = [r'\\\\znas\\Subjects\\AL032\\2019-11-21\\ephys_K1\\pyKS\\output', r'\\\\znas\\Subjects\\AL032\\2019-11-22\\ephys_K1\\pyKS\\output']\n",
    "\n",
    "param['KS_dirs'] = KS_dirs\n",
    "wave_paths, unit_label_paths, channel_pos = util.paths_from_KS(KS_dirs)\n",
    "param = util.get_probe_geometry(channel_pos[0], param)\n",
    "\n",
    "# STEP 0 from the UMPy example notebook\n",
    "waveform, session_id, session_switch, within_session, good_units, param = util.load_good_waveforms(wave_paths, unit_label_paths, param, good_units_only = True) "
   ]
  },
  {
   "cell_type": "code",
   "execution_count": 15,
   "id": "f7014ec6",
   "metadata": {},
   "outputs": [],
   "source": [
    "# Preprocess the DeepUnitMatch way\n",
    "\n",
    "snippets, positions = param_fun.get_snippets(waveform, channel_pos)"
   ]
  }
 ],
 "metadata": {
  "kernelspec": {
   "display_name": "unitmatch",
   "language": "python",
   "name": "python3"
  },
  "language_info": {
   "codemirror_mode": {
    "name": "ipython",
    "version": 3
   },
   "file_extension": ".py",
   "mimetype": "text/x-python",
   "name": "python",
   "nbconvert_exporter": "python",
   "pygments_lexer": "ipython3",
   "version": "3.11.11"
  }
 },
 "nbformat": 4,
 "nbformat_minor": 5
}
