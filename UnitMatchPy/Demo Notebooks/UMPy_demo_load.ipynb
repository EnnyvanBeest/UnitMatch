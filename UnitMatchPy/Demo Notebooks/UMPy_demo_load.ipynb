{
 "cells": [
  {
   "cell_type": "code",
   "execution_count": 29,
   "metadata": {},
   "outputs": [
    {
     "name": "stdout",
     "output_type": "stream",
     "text": [
      "The autoreload extension is already loaded. To reload it, use:\n",
      "  %reload_ext autoreload\n"
     ]
    }
   ],
   "source": [
    "%load_ext autoreload\n",
    "%autoreload \n",
    "import UnitMatchPy.save_utils as su\n",
    "import numpy as np\n",
    "import pandas as pd\n",
    "import matplotlib.pyplot as plt"
   ]
  },
  {
   "cell_type": "code",
   "execution_count": 19,
   "metadata": {},
   "outputs": [],
   "source": [
    "save_dir = r'c:\\Users\\Experiment\\Documents\\E-phys\\UMPY_savedata\\test1'"
   ]
  },
  {
   "cell_type": "code",
   "execution_count": 23,
   "metadata": {},
   "outputs": [],
   "source": [
    "# Load base output\n",
    "UM_scores, clus_info, param, match_prob, waveform_info, match_table = su.load_output(save_dir, LoadMatchTable = True)\n",
    "\n",
    "#load separate CV output\n",
    "# UM_scores_CV12, UM_scores_CV21, clus_info, param, match_prob_CV12, match_prob_CV21, matches_CV12, matches_CV21, waveform_info, match_table = su.load_output_separate_CV(save_dir, LoadMatchTable = True)\n"
   ]
  }
 ],
 "metadata": {
  "kernelspec": {
   "display_name": "Python 3",
   "language": "python",
   "name": "python3"
  },
  "language_info": {
   "codemirror_mode": {
    "name": "ipython",
    "version": 3
   },
   "file_extension": ".py",
   "mimetype": "text/x-python",
   "name": "python",
   "nbconvert_exporter": "python",
   "pygments_lexer": "ipython3",
   "version": "3.11.4"
  }
 },
 "nbformat": 4,
 "nbformat_minor": 2
}
